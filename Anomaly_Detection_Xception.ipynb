{
  "nbformat": 4,
  "nbformat_minor": 0,
  "metadata": {
    "colab": {
      "provenance": [],
      "gpuType": "T4",
      "machine_shape": "hm",
      "authorship_tag": "ABX9TyMUbcWt0RrjWrsBDrrV7UC+",
      "include_colab_link": true
    },
    "kernelspec": {
      "name": "python3",
      "display_name": "Python 3"
    },
    "language_info": {
      "name": "python"
    },
    "accelerator": "GPU"
  },
  "cells": [
    {
      "cell_type": "markdown",
      "metadata": {
        "id": "view-in-github",
        "colab_type": "text"
      },
      "source": [
        "<a href=\"https://colab.research.google.com/github/NeulboGom/J_Automation_Project/blob/JH/Anomaly_Detection_Xception.ipynb\" target=\"_parent\"><img src=\"https://colab.research.google.com/assets/colab-badge.svg\" alt=\"Open In Colab\"/></a>"
      ]
    },
    {
      "cell_type": "code",
      "source": [
        "from google.colab import drive\n",
        "drive.mount('/content/drive')"
      ],
      "metadata": {
        "id": "6YPko2CpzWVL",
        "colab": {
          "base_uri": "https://localhost:8080/"
        },
        "outputId": "6ed42dbf-458a-4a29-a588-57f22f724b47"
      },
      "execution_count": 1,
      "outputs": [
        {
          "output_type": "stream",
          "name": "stdout",
          "text": [
            "Mounted at /content/drive\n"
          ]
        }
      ]
    },
    {
      "cell_type": "code",
      "execution_count": 15,
      "metadata": {
        "id": "Y5oE_SARvpgV"
      },
      "outputs": [],
      "source": [
        "import os\n",
        "from glob import glob\n",
        "from tqdm import tqdm\n",
        "from PIL import Image\n",
        "import matplotlib.pyplot as plt\n",
        "import matplotlib.image\n",
        "import pandas as pd\n",
        "import csv\n",
        "import numpy as np\n",
        "import tensorflow as tf\n",
        "from tensorflow import keras\n",
        "import albumentations as albu\n",
        "from tensorflow.keras import layers, models, optimizers\n",
        "from tensorflow.keras.models import Model\n",
        "from tensorflow.keras.layers import Input, Conv2D, SeparableConv2D, BatchNormalization, GlobalAveragePooling2D, Dense, Dropout"
      ]
    },
    {
      "cell_type": "markdown",
      "source": [
        "# 모델 가져오기"
      ],
      "metadata": {
        "id": "XyvdUZINF80d"
      }
    },
    {
      "cell_type": "markdown",
      "source": [
        "## Xception 모델과 유사하게 구현\n",
        "\n",
        "  "
      ],
      "metadata": {
        "id": "JOTZ7HciJLRc"
      }
    },
    {
      "cell_type": "code",
      "source": [
        "# Xception 스타일의 네트워크 정의\n",
        "def XceptionStyleClassification(input_shape=(224, 224, 3), num_classes=3):  # num_classes는 클래스 수에 맞게 조정\n",
        "    input_tensor = Input(shape=input_shape)\n",
        "\n",
        "    # Entry Flow\n",
        "    x = Conv2D(32, (3, 3), activation='relu', padding='same')(input_tensor)\n",
        "    x = BatchNormalization()(x)\n",
        "\n",
        "    # Separable Convolution Blocks\n",
        "    for _ in range(1):\n",
        "        residual = x\n",
        "        x = SeparableConv2D(64, (3, 3), activation='relu', padding='same')(x)\n",
        "        x = BatchNormalization()(x)\n",
        "        x = SeparableConv2D(64, (3, 3), activation='relu', padding='same')(x)\n",
        "        x = BatchNormalization()(x)\n",
        "        residual = SeparableConv2D(64, (3, 3), activation='relu', padding='same')(residual)  # Skip Connection 크기 조정\n",
        "        x = Add()([residual, x])  # Skip Connection\n",
        "\n",
        "    # Middle Flow\n",
        "    x = SeparableConv2D(128, (3, 3), activation='relu', padding='same')(x)\n",
        "    x = BatchNormalization()(x)\n",
        "    x = Dropout(0.2)(x)\n",
        "\n",
        "    # Exit Flow\n",
        "    x = SeparableConv2D(64, (3, 3), activation='relu', padding='same')(x)\n",
        "    x = BatchNormalization()(x)\n",
        "    x = Dropout(0.2)(x)\n",
        "    x = GlobalAveragePooling2D()(x)\n",
        "\n",
        "    # Classification Layer with softmax activation\n",
        "    x = Dense(num_classes, activation='softmax')(x)  # 다중 클래스 분류\n",
        "\n",
        "    model = Model(inputs=input_tensor, outputs=x)\n",
        "\n",
        "    return model\n",
        "\n",
        "# 모델 생성\n",
        "num_classes = 3  # 분류할 클래스 수에 맞게 조정\n",
        "model = XceptionStyleClassification(num_classes=num_classes)\n",
        "\n",
        "# 모델 요약 출력\n",
        "model.summary()\n"
      ],
      "metadata": {
        "id": "v04Tp92MzVOy",
        "colab": {
          "base_uri": "https://localhost:8080/"
        },
        "outputId": "ea0e5c1d-8eb4-45cf-fa34-d461c40461a3"
      },
      "execution_count": 22,
      "outputs": [
        {
          "output_type": "stream",
          "name": "stdout",
          "text": [
            "Model: \"model_2\"\n",
            "__________________________________________________________________________________________________\n",
            " Layer (type)                   Output Shape         Param #     Connected to                     \n",
            "==================================================================================================\n",
            " input_4 (InputLayer)           [(None, 224, 224, 3  0           []                               \n",
            "                                )]                                                                \n",
            "                                                                                                  \n",
            " conv2d_3 (Conv2D)              (None, 224, 224, 32  896         ['input_4[0][0]']                \n",
            "                                )                                                                 \n",
            "                                                                                                  \n",
            " batch_normalization_12 (BatchN  (None, 224, 224, 32  128        ['conv2d_3[0][0]']               \n",
            " ormalization)                  )                                                                 \n",
            "                                                                                                  \n",
            " separable_conv2d_11 (Separable  (None, 224, 224, 64  2400       ['batch_normalization_12[0][0]'] \n",
            " Conv2D)                        )                                                                 \n",
            "                                                                                                  \n",
            " batch_normalization_13 (BatchN  (None, 224, 224, 64  256        ['separable_conv2d_11[0][0]']    \n",
            " ormalization)                  )                                                                 \n",
            "                                                                                                  \n",
            " separable_conv2d_12 (Separable  (None, 224, 224, 64  4736       ['batch_normalization_13[0][0]'] \n",
            " Conv2D)                        )                                                                 \n",
            "                                                                                                  \n",
            " separable_conv2d_13 (Separable  (None, 224, 224, 64  2400       ['batch_normalization_12[0][0]'] \n",
            " Conv2D)                        )                                                                 \n",
            "                                                                                                  \n",
            " batch_normalization_14 (BatchN  (None, 224, 224, 64  256        ['separable_conv2d_12[0][0]']    \n",
            " ormalization)                  )                                                                 \n",
            "                                                                                                  \n",
            " add_2 (Add)                    (None, 224, 224, 64  0           ['separable_conv2d_13[0][0]',    \n",
            "                                )                                 'batch_normalization_14[0][0]'] \n",
            "                                                                                                  \n",
            " separable_conv2d_14 (Separable  (None, 224, 224, 12  8896       ['add_2[0][0]']                  \n",
            " Conv2D)                        8)                                                                \n",
            "                                                                                                  \n",
            " batch_normalization_15 (BatchN  (None, 224, 224, 12  512        ['separable_conv2d_14[0][0]']    \n",
            " ormalization)                  8)                                                                \n",
            "                                                                                                  \n",
            " dropout_4 (Dropout)            (None, 224, 224, 12  0           ['batch_normalization_15[0][0]'] \n",
            "                                8)                                                                \n",
            "                                                                                                  \n",
            " separable_conv2d_15 (Separable  (None, 224, 224, 64  9408       ['dropout_4[0][0]']              \n",
            " Conv2D)                        )                                                                 \n",
            "                                                                                                  \n",
            " batch_normalization_16 (BatchN  (None, 224, 224, 64  256        ['separable_conv2d_15[0][0]']    \n",
            " ormalization)                  )                                                                 \n",
            "                                                                                                  \n",
            " dropout_5 (Dropout)            (None, 224, 224, 64  0           ['batch_normalization_16[0][0]'] \n",
            "                                )                                                                 \n",
            "                                                                                                  \n",
            " global_average_pooling2d_2 (Gl  (None, 64)          0           ['dropout_5[0][0]']              \n",
            " obalAveragePooling2D)                                                                            \n",
            "                                                                                                  \n",
            " dense_2 (Dense)                (None, 3)            195         ['global_average_pooling2d_2[0][0\n",
            "                                                                 ]']                              \n",
            "                                                                                                  \n",
            "==================================================================================================\n",
            "Total params: 30,339\n",
            "Trainable params: 29,635\n",
            "Non-trainable params: 704\n",
            "__________________________________________________________________________________________________\n"
          ]
        }
      ]
    },
    {
      "cell_type": "markdown",
      "source": [
        "# 이미지 데이터 전처리"
      ],
      "metadata": {
        "id": "MSjPREQab49c"
      }
    },
    {
      "cell_type": "code",
      "source": [
        "def preprocess_image(image_path, target_size=(224, 224)):\n",
        "    # 이미지 파일 경로 불러오기\n",
        "    image_list = glob(os.path.join(image_path, '*.png'))\n",
        "\n",
        "    # 빈 numpy 배열 생성 (4차원 배열로 초기화)\n",
        "    img_array = np.empty((len(image_list), *target_size, 3), dtype=np.uint8)\n",
        "\n",
        "    for i, img in enumerate(image_list):\n",
        "        image = Image.open(img)\n",
        "        image = image.resize(target_size)\n",
        "\n",
        "        # 흑백 이미지를 3차원 RGB 형태로 변경\n",
        "        image = image.convert('RGB')\n",
        "\n",
        "        img_array[i] = np.array(image)\n",
        "\n",
        "    return img_array\n"
      ],
      "metadata": {
        "id": "mw3sNQveb_GJ"
      },
      "execution_count": 4,
      "outputs": []
    },
    {
      "cell_type": "markdown",
      "source": [
        "## Train, Validation, Test 데이터 나누기"
      ],
      "metadata": {
        "id": "iX7-vmNMgpO_"
      }
    },
    {
      "cell_type": "code",
      "source": [
        "from sklearn.model_selection import train_test_split\n",
        "from sklearn.utils import resample\n",
        "\n",
        "# 정상(normal) 데이터와 이상(abnormal) 데이터 준비\n",
        "X_normal = preprocess_image('/content/drive/MyDrive/Project/up/good_up')\n",
        "X_abnormal = preprocess_image('/content/drive/MyDrive/Project/up/notgood_up')\n",
        "X_check = preprocess_image('/content/drive/MyDrive/Project/up/check_up')\n",
        "\n",
        "# 레이블 생성\n",
        "# 정상 0, 비정상 1, 체크 2\n",
        "y_normal = np.zeros(len(X_normal))\n",
        "y_abnormal = np.ones(len(X_abnormal))\n",
        "y_check = np.full(len(X_check), 2)\n",
        "\n",
        "# 클래스 불균형 해결 (오버샘플링)\n",
        "X_abnormal_upsampled, y_abnormal_upsampled = resample(X_abnormal, y_abnormal, n_samples=len(X_normal), random_state=42)\n",
        "\n",
        "# 복제한 이상 데이터를 정상 데이터와 합치기\n",
        "X_combined = np.concatenate((X_normal, X_abnormal_upsampled, X_check), axis=0)\n",
        "y_combined = np.concatenate((y_normal, y_abnormal_upsampled, y_check), axis=0)\n",
        "\n",
        "# 데이터를 train, validation, test 데이터로 나누기\n",
        "X_train, X_temp, y_train, y_temp = train_test_split(X_combined, y_combined, test_size=0.2, random_state=42)\n",
        "X_val, X_test, y_val, y_test = train_test_split(X_temp, y_temp, test_size=0.2, random_state=42)\n"
      ],
      "metadata": {
        "id": "8AnUn_cvcP5U"
      },
      "execution_count": 5,
      "outputs": []
    },
    {
      "cell_type": "code",
      "source": [
        "# Data Shape 확인\n",
        "print(\"Train data shape:\", X_train.shape)\n",
        "print(\"Validation data shape:\", X_val.shape)\n",
        "print(\"Test data shape:\", X_test.shape)"
      ],
      "metadata": {
        "colab": {
          "base_uri": "https://localhost:8080/"
        },
        "id": "zorrcw6tf8qc",
        "outputId": "d59be303-500c-42a6-bbc9-0ad6f31cdfdf"
      },
      "execution_count": 6,
      "outputs": [
        {
          "output_type": "stream",
          "name": "stdout",
          "text": [
            "Train data shape: (902, 224, 224, 3)\n",
            "Validation data shape: (180, 224, 224, 3)\n",
            "Test data shape: (46, 224, 224, 3)\n"
          ]
        }
      ]
    },
    {
      "cell_type": "markdown",
      "source": [
        "## Data Normalization, augmentation"
      ],
      "metadata": {
        "id": "GEoJ959KgudZ"
      }
    },
    {
      "cell_type": "code",
      "source": [
        "from tensorflow.keras.preprocessing.image import ImageDataGenerator\n",
        "\n",
        "# 데이터 증강을 위한 ImageDataGenerator 생성\n",
        "datagen = ImageDataGenerator(\n",
        "    rotation_range=60,          # 이미지 회전 범위 설정\n",
        "    width_shift_range=0.05,      # 이미지 가로 이동 범위 설정\n",
        "    height_shift_range=0.05,     # 이미지 세로 이동 범위 설정\n",
        "    shear_range=0.1,            # 이미지 전단 변환 범위 설정\n",
        "    zoom_range=0.2,             # 이미지 확대/축소 범위 설정\n",
        "    horizontal_flip=True,       # 이미지 수평 뒤집기 설정\n",
        "    vertical_flip=True,         # 이미지 수직 뒤집기 설정\n",
        "    fill_mode='nearest',        # 이미지 편형 시 채워지는 값의 방식 설정\n",
        "    brightness_range=[0.5, 1.5],  # 이미지 밝기 변화 범위 설정\n",
        ")\n",
        "\n",
        "# Augmentation을 적용하여 데이터를 증강\n",
        "augmented_images = []\n",
        "augmented_labels = []\n",
        "for image, label in zip(X_train, y_train):\n",
        "    # 이미지를 3D 배열로 변환 (높이, 너비, 채널)\n",
        "    image_3d = image[:, :, :3]  # 채널 정보만 가져오기\n",
        "    augmented_image = datagen.random_transform(image_3d)\n",
        "    augmented_images.append(augmented_image)\n",
        "    augmented_labels.append(label)\n",
        "\n",
        "augmented_images = np.array(augmented_images)\n",
        "augmented_labels = np.array(augmented_labels)\n",
        "\n",
        "# 증강된 이미지와 레이블을 기존 데이터와 병합\n",
        "X_train = np.concatenate((X_train, augmented_images), axis=0)\n",
        "y_train = np.concatenate((y_train, augmented_labels), axis=0)\n",
        "\n",
        "# 증강 후의 이미지 개수와 레이블 개수 확인\n",
        "print(\"X_train shape after augmentation:\", X_train.shape)\n",
        "print(\"y_train shape after augmentation:\", y_train.shape)\n",
        "\n"
      ],
      "metadata": {
        "colab": {
          "base_uri": "https://localhost:8080/"
        },
        "id": "F9vTWnS9iaWD",
        "outputId": "fb421de8-3f27-47fd-96b7-49c1e917d533"
      },
      "execution_count": 6,
      "outputs": [
        {
          "output_type": "stream",
          "name": "stdout",
          "text": [
            "X_train shape after augmentation: (1804, 224, 224, 3)\n",
            "y_train shape after augmentation: (1804,)\n"
          ]
        }
      ]
    },
    {
      "cell_type": "markdown",
      "source": [],
      "metadata": {
        "id": "OtSsu-oqkBYt"
      }
    },
    {
      "cell_type": "code",
      "source": [
        "# Convert the images to float32 and then normalize by dividing by 255\n",
        "X_train = X_train / 255\n",
        "X_val = X_val / 255\n",
        "X_test = X_test / 255"
      ],
      "metadata": {
        "id": "9xLCWy0sgnHi"
      },
      "execution_count": 7,
      "outputs": []
    },
    {
      "cell_type": "markdown",
      "source": [
        "# Model compile"
      ],
      "metadata": {
        "id": "27o0GAL8vxt0"
      }
    },
    {
      "cell_type": "code",
      "source": [
        "from keras.callbacks import ReduceLROnPlateau\n",
        "\n",
        "# ReduceLROnPlateau 콜백 설정\n",
        "reduce_lr = ReduceLROnPlateau(monitor='val_accuracy', factor=0.1, patience=3, min_lr=0.000001, verbose=1)\n"
      ],
      "metadata": {
        "id": "Tk8H4fh400Ed"
      },
      "execution_count": 17,
      "outputs": []
    },
    {
      "cell_type": "code",
      "source": [
        "from tensorflow.keras.optimizers import Adam, SGD\n",
        "\n",
        "model.compile(optimizer = Adam(learning_rate = 0.0001),\n",
        "                       loss = 'sparse_categorical_crossentropy',\n",
        "                       metrics = ['accuracy'])"
      ],
      "metadata": {
        "id": "8GGt1gLiv26c"
      },
      "execution_count": 23,
      "outputs": []
    },
    {
      "cell_type": "markdown",
      "source": [
        "# 모델 Train, test"
      ],
      "metadata": {
        "id": "XzyLde6ytRLf"
      }
    },
    {
      "cell_type": "markdown",
      "source": [
        "## Model Train"
      ],
      "metadata": {
        "id": "NZQFhhSBtQPQ"
      }
    },
    {
      "cell_type": "code",
      "source": [
        "EPOCH = 30\n",
        "BATCH_SIZE = 16\n",
        "\n",
        "# 모델 훈련\n",
        "history = model.fit(X_train, y_train, epochs = EPOCH,\n",
        "                             batch_size = BATCH_SIZE,\n",
        "                             validation_data = (X_val, y_val), verbose = 1,\n",
        "                             callbacks = [reduce_lr])"
      ],
      "metadata": {
        "colab": {
          "base_uri": "https://localhost:8080/"
        },
        "id": "YcC2HZ2n4d9R",
        "outputId": "391d5308-117a-4875-af8f-87dfca35067b"
      },
      "execution_count": 24,
      "outputs": [
        {
          "output_type": "stream",
          "name": "stdout",
          "text": [
            "Epoch 1/30\n",
            "113/113 [==============================] - 49s 391ms/step - loss: 0.9099 - accuracy: 0.6558 - val_loss: 1.0531 - val_accuracy: 0.4833 - lr: 1.0000e-04\n",
            "Epoch 2/30\n",
            "113/113 [==============================] - 44s 391ms/step - loss: 0.7940 - accuracy: 0.7123 - val_loss: 1.0197 - val_accuracy: 0.4833 - lr: 1.0000e-04\n",
            "Epoch 3/30\n",
            "113/113 [==============================] - 44s 392ms/step - loss: 0.7042 - accuracy: 0.7567 - val_loss: 0.9778 - val_accuracy: 0.5444 - lr: 1.0000e-04\n",
            "Epoch 4/30\n",
            "113/113 [==============================] - 45s 395ms/step - loss: 0.6529 - accuracy: 0.7661 - val_loss: 0.9326 - val_accuracy: 0.4444 - lr: 1.0000e-04\n",
            "Epoch 5/30\n",
            "113/113 [==============================] - 45s 398ms/step - loss: 0.6050 - accuracy: 0.7733 - val_loss: 0.7313 - val_accuracy: 0.7111 - lr: 1.0000e-04\n",
            "Epoch 6/30\n",
            "113/113 [==============================] - 45s 398ms/step - loss: 0.5900 - accuracy: 0.7894 - val_loss: 1.1352 - val_accuracy: 0.4444 - lr: 1.0000e-04\n",
            "Epoch 7/30\n",
            "113/113 [==============================] - 45s 399ms/step - loss: 0.5645 - accuracy: 0.8027 - val_loss: 0.5767 - val_accuracy: 0.7444 - lr: 1.0000e-04\n",
            "Epoch 8/30\n",
            "113/113 [==============================] - 45s 398ms/step - loss: 0.5453 - accuracy: 0.8071 - val_loss: 0.9042 - val_accuracy: 0.5444 - lr: 1.0000e-04\n",
            "Epoch 9/30\n",
            "113/113 [==============================] - 45s 397ms/step - loss: 0.5301 - accuracy: 0.8137 - val_loss: 0.5083 - val_accuracy: 0.8556 - lr: 1.0000e-04\n",
            "Epoch 10/30\n",
            "113/113 [==============================] - 45s 398ms/step - loss: 0.5121 - accuracy: 0.8215 - val_loss: 0.5078 - val_accuracy: 0.8000 - lr: 1.0000e-04\n",
            "Epoch 11/30\n",
            "113/113 [==============================] - 45s 399ms/step - loss: 0.4997 - accuracy: 0.8210 - val_loss: 0.4985 - val_accuracy: 0.7444 - lr: 1.0000e-04\n",
            "Epoch 12/30\n",
            "113/113 [==============================] - ETA: 0s - loss: 0.4845 - accuracy: 0.8276\n",
            "Epoch 12: ReduceLROnPlateau reducing learning rate to 9.999999747378752e-06.\n",
            "113/113 [==============================] - 45s 398ms/step - loss: 0.4845 - accuracy: 0.8276 - val_loss: 0.5643 - val_accuracy: 0.6889 - lr: 1.0000e-04\n",
            "Epoch 13/30\n",
            "113/113 [==============================] - 45s 398ms/step - loss: 0.4741 - accuracy: 0.8331 - val_loss: 0.4709 - val_accuracy: 0.8500 - lr: 1.0000e-05\n",
            "Epoch 14/30\n",
            "113/113 [==============================] - 45s 398ms/step - loss: 0.4776 - accuracy: 0.8359 - val_loss: 0.4990 - val_accuracy: 0.8556 - lr: 1.0000e-05\n",
            "Epoch 15/30\n",
            "113/113 [==============================] - ETA: 0s - loss: 0.4721 - accuracy: 0.8304\n",
            "Epoch 15: ReduceLROnPlateau reducing learning rate to 1e-06.\n",
            "113/113 [==============================] - 45s 398ms/step - loss: 0.4721 - accuracy: 0.8304 - val_loss: 0.4645 - val_accuracy: 0.8500 - lr: 1.0000e-05\n",
            "Epoch 16/30\n",
            "113/113 [==============================] - 45s 398ms/step - loss: 0.4778 - accuracy: 0.8376 - val_loss: 0.4678 - val_accuracy: 0.8611 - lr: 1.0000e-06\n",
            "Epoch 17/30\n",
            "113/113 [==============================] - 45s 399ms/step - loss: 0.4704 - accuracy: 0.8365 - val_loss: 0.4693 - val_accuracy: 0.8611 - lr: 1.0000e-06\n",
            "Epoch 18/30\n",
            "113/113 [==============================] - 45s 398ms/step - loss: 0.4657 - accuracy: 0.8426 - val_loss: 0.4701 - val_accuracy: 0.8611 - lr: 1.0000e-06\n",
            "Epoch 19/30\n",
            "113/113 [==============================] - 45s 398ms/step - loss: 0.4691 - accuracy: 0.8337 - val_loss: 0.4707 - val_accuracy: 0.8611 - lr: 1.0000e-06\n",
            "Epoch 20/30\n",
            "113/113 [==============================] - 45s 398ms/step - loss: 0.4653 - accuracy: 0.8398 - val_loss: 0.4700 - val_accuracy: 0.8611 - lr: 1.0000e-06\n",
            "Epoch 21/30\n",
            "113/113 [==============================] - 45s 399ms/step - loss: 0.4738 - accuracy: 0.8287 - val_loss: 0.4690 - val_accuracy: 0.8611 - lr: 1.0000e-06\n",
            "Epoch 22/30\n",
            "113/113 [==============================] - 45s 398ms/step - loss: 0.4779 - accuracy: 0.8331 - val_loss: 0.4689 - val_accuracy: 0.8611 - lr: 1.0000e-06\n",
            "Epoch 23/30\n",
            "113/113 [==============================] - 45s 399ms/step - loss: 0.4670 - accuracy: 0.8348 - val_loss: 0.4698 - val_accuracy: 0.8611 - lr: 1.0000e-06\n",
            "Epoch 24/30\n",
            "113/113 [==============================] - 45s 398ms/step - loss: 0.4687 - accuracy: 0.8365 - val_loss: 0.4679 - val_accuracy: 0.8611 - lr: 1.0000e-06\n",
            "Epoch 25/30\n",
            "113/113 [==============================] - 45s 398ms/step - loss: 0.4625 - accuracy: 0.8370 - val_loss: 0.4686 - val_accuracy: 0.8611 - lr: 1.0000e-06\n",
            "Epoch 26/30\n",
            "113/113 [==============================] - 45s 398ms/step - loss: 0.4760 - accuracy: 0.8331 - val_loss: 0.4694 - val_accuracy: 0.8611 - lr: 1.0000e-06\n",
            "Epoch 27/30\n",
            "113/113 [==============================] - 45s 398ms/step - loss: 0.4657 - accuracy: 0.8376 - val_loss: 0.4695 - val_accuracy: 0.8611 - lr: 1.0000e-06\n",
            "Epoch 28/30\n",
            "113/113 [==============================] - 45s 398ms/step - loss: 0.4743 - accuracy: 0.8359 - val_loss: 0.4678 - val_accuracy: 0.8611 - lr: 1.0000e-06\n",
            "Epoch 29/30\n",
            "113/113 [==============================] - 45s 398ms/step - loss: 0.4671 - accuracy: 0.8298 - val_loss: 0.4687 - val_accuracy: 0.8611 - lr: 1.0000e-06\n",
            "Epoch 30/30\n",
            "113/113 [==============================] - 45s 398ms/step - loss: 0.4675 - accuracy: 0.8359 - val_loss: 0.4675 - val_accuracy: 0.8611 - lr: 1.0000e-06\n"
          ]
        }
      ]
    },
    {
      "cell_type": "code",
      "source": [
        "EPOCH = 30\n",
        "BATCH_SIZE = 20\n",
        "\n",
        "# 모델 훈련\n",
        "history = model.fit(X_train, y_train, epochs = EPOCH,\n",
        "                    batch_size = BATCH_SIZE,\n",
        "                    validation_data = (X_val, y_val),\n",
        "                    verbose = 1)"
      ],
      "metadata": {
        "id": "KyODRAlztWy7"
      },
      "execution_count": null,
      "outputs": []
    },
    {
      "cell_type": "markdown",
      "source": [
        "### Train, Validation loss Graph"
      ],
      "metadata": {
        "id": "kktIHzQGujsh"
      }
    },
    {
      "cell_type": "code",
      "source": [
        "plt.plot(history.history['loss'], label = 'Train Loss')\n",
        "plt.plot(history.history['val_loss'], label = 'Validation Loss')\n",
        "plt.title('Train & Validation Loss Graph')\n",
        "plt.xlabel('Epochs')\n",
        "plt.ylabel('Loss')\n",
        "plt.legend()\n",
        "plt.show()"
      ],
      "metadata": {
        "colab": {
          "base_uri": "https://localhost:8080/",
          "height": 472
        },
        "id": "xrBrXtdZuiIJ",
        "outputId": "fc6620e7-33c0-449a-d360-90c4e0822f4a"
      },
      "execution_count": 25,
      "outputs": [
        {
          "output_type": "display_data",
          "data": {
            "text/plain": [
              "<Figure size 640x480 with 1 Axes>"
            ],
            "image/png": "[encoded data removed]"
          },
          "metadata": {}
        }
      ]
    },
    {
      "cell_type": "markdown",
      "source": [
        "### Accuracy Graph"
      ],
      "metadata": {
        "id": "wd_5kkYZvoGz"
      }
    },
    {
      "cell_type": "code",
      "source": [
        "plt.plot(history.history['accuracy'], label = 'Train Accuracy')\n",
        "plt.plot(history.history['val_accuracy'], label = 'Validation Accuracy')\n",
        "plt.title('Train & Validation Accuracy Graph')\n",
        "plt.xlabel('Epochs')\n",
        "plt.ylabel('Accuracy')\n",
        "plt.legend()\n",
        "plt.show()"
      ],
      "metadata": {
        "colab": {
          "base_uri": "https://localhost:8080/",
          "height": 472
        },
        "id": "CBMnwJ7NvtAW",
        "outputId": "89d0238a-af4d-4c92-fbe6-c04e4e8b107d"
      },
      "execution_count": 26,
      "outputs": [
        {
          "output_type": "display_data",
          "data": {
            "text/plain": [
              "<Figure size 640x480 with 1 Axes>"
            ],
            "image/png": "[encoded data removed]"
          },
          "metadata": {}
        }
      ]
    },
    {
      "cell_type": "markdown",
      "source": [
        "## Model Test"
      ],
      "metadata": {
        "id": "4I5DE8egvfWc"
      }
    },
    {
      "cell_type": "code",
      "source": [
        "test_loss, test_accuracy = model.evaluate(X_test, y_test)\n",
        "print(\"Test Loss: \", test_loss)\n",
        "print(\"Test Accuracy:\", test_accuracy)"
      ],
      "metadata": {
        "colab": {
          "base_uri": "https://localhost:8080/"
        },
        "id": "GKk1tnruvjkq",
        "outputId": "5c5e599d-daf7-4801-b1df-897b4ab1161a"
      },
      "execution_count": 27,
      "outputs": [
        {
          "output_type": "stream",
          "name": "stdout",
          "text": [
            "2/2 [==============================] - 0s 66ms/step - loss: 0.4048 - accuracy: 0.9348\n",
            "Test Loss:  0.4048272967338562\n",
            "Test Accuracy: 0.9347826242446899\n"
          ]
        }
      ]
    },
    {
      "cell_type": "markdown",
      "source": [
        "# 폐기"
      ],
      "metadata": {
        "id": "P2R1g6ZxkHYa"
      }
    },
    {
      "cell_type": "code",
      "source": [
        "# 데이터 증강을 위한 ImageDataGenerator 생성\n",
        "datagen = ImageDataGenerator(\n",
        "    rotation_range=60,          # 이미지 회전 범위 설정\n",
        "    width_shift_range=0.05,      # 이미지 가로 이동 범위 설정\n",
        "    height_shift_range=0.05,     # 이미지 세로 이동 범위 설정\n",
        "    shear_range=0.1,            # 이미지 전단 변환 범위 설정\n",
        "    zoom_range=0.2,             # 이미지 확대/축소 범위 설정\n",
        "    horizontal_flip=True,       # 이미지 수평 뒤집기 설정\n",
        "    vertical_flip=True,         # 이미지 수직 뒤집기 설정\n",
        "    fill_mode='nearest',        # 이미지 편형 시 채워지는 값의 방식 설정\n",
        "    brightness_range=[0.5, 1.5],  # 이미지 밝기 변화 범위 설정\n",
        ")\n",
        "\n",
        "# Augmentation을 적용하여 데이터를 증강\n",
        "augmented_images = []\n",
        "augmented_labels = []\n",
        "for image, label in zip(X_val, y_val):\n",
        "    # 이미지를 3D 배열로 변환 (높이, 너비, 채널)\n",
        "    image_3d = image[:, :, :3]  # 채널 정보만 가져오기\n",
        "    augmented_image = datagen.random_transform(image_3d)\n",
        "    augmented_images.append(augmented_image)\n",
        "    augmented_labels.append(label)\n",
        "\n",
        "augmented_images = np.array(augmented_images)\n",
        "augmented_labels = np.array(augmented_labels)\n",
        "\n",
        "# 증강된 이미지와 레이블을 기존 데이터와 병합\n",
        "X_val = np.concatenate((X_val, augmented_images), axis=0)\n",
        "y_val = np.concatenate((y_val, augmented_labels), axis=0)\n",
        "\n",
        "# 증강 후의 이미지 개수와 레이블 개수 확인\n",
        "print(\"X_val shape after augmentation:\", X_val.shape)\n",
        "print(\"y_val shape after augmentation:\", y_val.shape)\n",
        "\n"
      ],
      "metadata": {
        "colab": {
          "base_uri": "https://localhost:8080/"
        },
        "id": "A0ahzIwmC-gA",
        "outputId": "48dc2997-47bf-4768-96e1-dc2bec87ba7b"
      },
      "execution_count": 7,
      "outputs": [
        {
          "output_type": "stream",
          "name": "stdout",
          "text": [
            "X_val shape after augmentation: (360, 224, 224, 3)\n",
            "y_val shape after augmentation: (360,)\n"
          ]
        }
      ]
    }
  ]
}