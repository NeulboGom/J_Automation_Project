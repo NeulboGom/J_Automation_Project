{
  "nbformat": 4,
  "nbformat_minor": 0,
  "metadata": {
    "colab": {
      "provenance": [],
      "gpuType": "T4",
      "machine_shape": "hm",
      "authorship_tag": "ABX9TyNqMjvqNIIIYVEVItxkWUL0",
      "include_colab_link": true
    },
    "kernelspec": {
      "name": "python3",
      "display_name": "Python 3"
    },
    "language_info": {
      "name": "python"
    },
    "accelerator": "GPU"
  },
  "cells": [
    {
      "cell_type": "markdown",
      "metadata": {
        "id": "view-in-github",
        "colab_type": "text"
      },
      "source": [
        "<a href=\"https://colab.research.google.com/github/NeulboGom/J_Automation_Project/blob/JH/Anomaly_Detection_Xception.ipynb\" target=\"_parent\"><img src=\"https://colab.research.google.com/assets/colab-badge.svg\" alt=\"Open In Colab\"/></a>"
      ]
    },
    {
      "cell_type": "code",
      "source": [
        "from google.colab import drive\n",
        "drive.mount('/content/drive')"
      ],
      "metadata": {
        "id": "6YPko2CpzWVL",
        "colab": {
          "base_uri": "https://localhost:8080/"
        },
        "outputId": "6ed42dbf-458a-4a29-a588-57f22f724b47"
      },
      "execution_count": 1,
      "outputs": [
        {
          "output_type": "stream",
          "name": "stdout",
          "text": [
            "Mounted at /content/drive\n"
          ]
        }
      ]
    },
    {
      "cell_type": "code",
      "execution_count": 2,
      "metadata": {
        "id": "Y5oE_SARvpgV"
      },
      "outputs": [],
      "source": [
        "import os\n",
        "from glob import glob\n",
        "from tqdm import tqdm\n",
        "from PIL import Image\n",
        "import matplotlib.pyplot as plt\n",
        "import matplotlib.image\n",
        "import pandas as pd\n",
        "import csv\n",
        "import numpy as np\n",
        "import tensorflow as tf\n",
        "from tensorflow import keras\n",
        "import albumentations as albu\n",
        "from tensorflow.keras import layers, models, optimizers\n",
        "from tensorflow.keras.models import Model\n",
        "from tensorflow.keras.layers import Input, Conv2D, SeparableConv2D, BatchNormalization, GlobalAveragePooling2D, Dense"
      ]
    },
    {
      "cell_type": "markdown",
      "source": [
        "# 모델 가져오기"
      ],
      "metadata": {
        "id": "XyvdUZINF80d"
      }
    },
    {
      "cell_type": "markdown",
      "source": [
        "## Xception 모델과 유사하게 구현\n",
        "\n",
        "  "
      ],
      "metadata": {
        "id": "JOTZ7HciJLRc"
      }
    },
    {
      "cell_type": "code",
      "source": [
        "import tensorflow as tf\n",
        "from tensorflow.keras.layers import Input, Conv2D, SeparableConv2D, BatchNormalization, GlobalAveragePooling2D, Dense, Add\n",
        "from tensorflow.keras.models import Model\n",
        "\n",
        "# Xception 스타일의 네트워크 정의\n",
        "def XceptionStyleClassification(input_shape=(224, 224, 3), num_classes=3):  # num_classes는 클래스 수에 맞게 조정\n",
        "    input_tensor = Input(shape=input_shape)\n",
        "\n",
        "    # Entry Flow\n",
        "    x = Conv2D(32, (3, 3), activation='relu', padding='same')(input_tensor)\n",
        "    x = BatchNormalization()(x)\n",
        "\n",
        "    # Separable Convolution Blocks\n",
        "    for _ in range(1):\n",
        "        residual = x\n",
        "        x = SeparableConv2D(64, (3, 3), activation='relu', padding='same')(x)\n",
        "        x = BatchNormalization()(x)\n",
        "        x = SeparableConv2D(64, (3, 3), activation='relu', padding='same')(x)\n",
        "        x = BatchNormalization()(x)\n",
        "        residual = SeparableConv2D(64, (3, 3), activation='relu', padding='same')(residual)  # Skip Connection 크기 조정\n",
        "        x = Add()([residual, x])  # Skip Connection\n",
        "\n",
        "    # Middle Flow\n",
        "    x = SeparableConv2D(128, (3, 3), activation='relu', padding='same')(x)\n",
        "    x = BatchNormalization()(x)\n",
        "\n",
        "    # Exit Flow\n",
        "    x = SeparableConv2D(64, (3, 3), activation='relu', padding='same')(x)\n",
        "    x = BatchNormalization()(x)\n",
        "    x = GlobalAveragePooling2D()(x)\n",
        "\n",
        "    # Classification Layer with softmax activation\n",
        "    x = Dense(num_classes, activation='softmax')(x)  # 다중 클래스 분류\n",
        "\n",
        "    model = Model(inputs=input_tensor, outputs=x)\n",
        "\n",
        "    return model\n",
        "\n",
        "# 모델 생성\n",
        "num_classes = 3  # 분류할 클래스 수에 맞게 조정\n",
        "model = XceptionStyleClassification(num_classes=num_classes)\n",
        "\n",
        "# 모델 요약 출력\n",
        "model.summary()\n"
      ],
      "metadata": {
        "id": "v04Tp92MzVOy",
        "colab": {
          "base_uri": "https://localhost:8080/"
        },
        "outputId": "529e090d-81c0-4d92-ca1e-7b5f7209f4a0"
      },
      "execution_count": 3,
      "outputs": [
        {
          "output_type": "stream",
          "name": "stdout",
          "text": [
            "Model: \"model\"\n",
            "__________________________________________________________________________________________________\n",
            " Layer (type)                   Output Shape         Param #     Connected to                     \n",
            "==================================================================================================\n",
            " input_1 (InputLayer)           [(None, 224, 224, 3  0           []                               \n",
            "                                )]                                                                \n",
            "                                                                                                  \n",
            " conv2d (Conv2D)                (None, 224, 224, 32  896         ['input_1[0][0]']                \n",
            "                                )                                                                 \n",
            "                                                                                                  \n",
            " batch_normalization (BatchNorm  (None, 224, 224, 32  128        ['conv2d[0][0]']                 \n",
            " alization)                     )                                                                 \n",
            "                                                                                                  \n",
            " separable_conv2d (SeparableCon  (None, 224, 224, 64  2400       ['batch_normalization[0][0]']    \n",
            " v2D)                           )                                                                 \n",
            "                                                                                                  \n",
            " batch_normalization_1 (BatchNo  (None, 224, 224, 64  256        ['separable_conv2d[0][0]']       \n",
            " rmalization)                   )                                                                 \n",
            "                                                                                                  \n",
            " separable_conv2d_1 (SeparableC  (None, 224, 224, 64  4736       ['batch_normalization_1[0][0]']  \n",
            " onv2D)                         )                                                                 \n",
            "                                                                                                  \n",
            " separable_conv2d_2 (SeparableC  (None, 224, 224, 64  2400       ['batch_normalization[0][0]']    \n",
            " onv2D)                         )                                                                 \n",
            "                                                                                                  \n",
            " batch_normalization_2 (BatchNo  (None, 224, 224, 64  256        ['separable_conv2d_1[0][0]']     \n",
            " rmalization)                   )                                                                 \n",
            "                                                                                                  \n",
            " add (Add)                      (None, 224, 224, 64  0           ['separable_conv2d_2[0][0]',     \n",
            "                                )                                 'batch_normalization_2[0][0]']  \n",
            "                                                                                                  \n",
            " separable_conv2d_3 (SeparableC  (None, 224, 224, 12  8896       ['add[0][0]']                    \n",
            " onv2D)                         8)                                                                \n",
            "                                                                                                  \n",
            " batch_normalization_3 (BatchNo  (None, 224, 224, 12  512        ['separable_conv2d_3[0][0]']     \n",
            " rmalization)                   8)                                                                \n",
            "                                                                                                  \n",
            " separable_conv2d_4 (SeparableC  (None, 224, 224, 64  9408       ['batch_normalization_3[0][0]']  \n",
            " onv2D)                         )                                                                 \n",
            "                                                                                                  \n",
            " batch_normalization_4 (BatchNo  (None, 224, 224, 64  256        ['separable_conv2d_4[0][0]']     \n",
            " rmalization)                   )                                                                 \n",
            "                                                                                                  \n",
            " global_average_pooling2d (Glob  (None, 64)          0           ['batch_normalization_4[0][0]']  \n",
            " alAveragePooling2D)                                                                              \n",
            "                                                                                                  \n",
            " dense (Dense)                  (None, 3)            195         ['global_average_pooling2d[0][0]'\n",
            "                                                                 ]                                \n",
            "                                                                                                  \n",
            "==================================================================================================\n",
            "Total params: 30,339\n",
            "Trainable params: 29,635\n",
            "Non-trainable params: 704\n",
            "__________________________________________________________________________________________________\n"
          ]
        }
      ]
    },
    {
      "cell_type": "markdown",
      "source": [
        "# 이미지 데이터 전처리"
      ],
      "metadata": {
        "id": "MSjPREQab49c"
      }
    },
    {
      "cell_type": "code",
      "source": [
        "def preprocess_image(image_path, target_size=(224, 224)):\n",
        "    # 이미지 파일 경로 불러오기\n",
        "    image_list = glob(os.path.join(image_path, '*.png'))\n",
        "\n",
        "    # 빈 numpy 배열 생성 (4차원 배열로 초기화)\n",
        "    img_array = np.empty((len(image_list), *target_size, 3), dtype=np.uint8)\n",
        "\n",
        "    for i, img in enumerate(image_list):\n",
        "        image = Image.open(img)\n",
        "        image = image.resize(target_size)\n",
        "\n",
        "        # 흑백 이미지를 3차원 RGB 형태로 변경\n",
        "        image = image.convert('RGB')\n",
        "\n",
        "        img_array[i] = np.array(image)\n",
        "\n",
        "    return img_array\n"
      ],
      "metadata": {
        "id": "mw3sNQveb_GJ"
      },
      "execution_count": 4,
      "outputs": []
    },
    {
      "cell_type": "markdown",
      "source": [
        "## Train, Validation, Test 데이터 나누기"
      ],
      "metadata": {
        "id": "iX7-vmNMgpO_"
      }
    },
    {
      "cell_type": "code",
      "source": [
        "from sklearn.model_selection import train_test_split\n",
        "from sklearn.utils import resample\n",
        "\n",
        "# 정상(normal) 데이터와 이상(abnormal) 데이터 준비\n",
        "X_normal = preprocess_image('/content/drive/MyDrive/Project/up/good_up')\n",
        "X_abnormal = preprocess_image('/content/drive/MyDrive/Project/up/notgood_up')\n",
        "X_check = preprocess_image('/content/drive/MyDrive/Project/up/check_up')\n",
        "\n",
        "# 레이블 생성\n",
        "# 정상 0, 비정상 1, 체크 2\n",
        "y_normal = np.zeros(len(X_normal))\n",
        "y_abnormal = np.ones(len(X_abnormal))\n",
        "y_check = np.full(len(X_check), 2)\n",
        "\n",
        "# 클래스 불균형 해결 (오버샘플링)\n",
        "X_abnormal_upsampled, y_abnormal_upsampled = resample(X_abnormal, y_abnormal, n_samples=len(X_normal), random_state=42)\n",
        "\n",
        "# 복제한 이상 데이터를 정상 데이터와 합치기\n",
        "X_combined = np.concatenate((X_normal, X_abnormal_upsampled, X_check), axis=0)\n",
        "y_combined = np.concatenate((y_normal, y_abnormal_upsampled, y_check), axis=0)\n",
        "\n",
        "# 데이터를 train, validation, test 데이터로 나누기\n",
        "X_train, X_temp, y_train, y_temp = train_test_split(X_combined, y_combined, test_size=0.2, random_state=42)\n",
        "X_val, X_test, y_val, y_test = train_test_split(X_temp, y_temp, test_size=0.2, random_state=42)\n"
      ],
      "metadata": {
        "id": "8AnUn_cvcP5U"
      },
      "execution_count": 5,
      "outputs": []
    },
    {
      "cell_type": "code",
      "source": [
        "# Data Shape 확인\n",
        "print(\"Train data shape:\", X_train.shape)\n",
        "print(\"Validation data shape:\", X_val.shape)\n",
        "print(\"Test data shape:\", X_test.shape)"
      ],
      "metadata": {
        "colab": {
          "base_uri": "https://localhost:8080/"
        },
        "id": "zorrcw6tf8qc",
        "outputId": "d59be303-500c-42a6-bbc9-0ad6f31cdfdf"
      },
      "execution_count": 6,
      "outputs": [
        {
          "output_type": "stream",
          "name": "stdout",
          "text": [
            "Train data shape: (902, 224, 224, 3)\n",
            "Validation data shape: (180, 224, 224, 3)\n",
            "Test data shape: (46, 224, 224, 3)\n"
          ]
        }
      ]
    },
    {
      "cell_type": "markdown",
      "source": [
        "## Data Normalization, augmentation"
      ],
      "metadata": {
        "id": "GEoJ959KgudZ"
      }
    },
    {
      "cell_type": "code",
      "source": [
        "from tensorflow.keras.preprocessing.image import ImageDataGenerator\n",
        "\n",
        "# 데이터 증강을 위한 ImageDataGenerator 생성\n",
        "datagen = ImageDataGenerator(\n",
        "    rotation_range=60,          # 이미지 회전 범위 설정\n",
        "    width_shift_range=0.05,      # 이미지 가로 이동 범위 설정\n",
        "    height_shift_range=0.05,     # 이미지 세로 이동 범위 설정\n",
        "    shear_range=0.1,            # 이미지 전단 변환 범위 설정\n",
        "    zoom_range=0.2,             # 이미지 확대/축소 범위 설정\n",
        "    horizontal_flip=True,       # 이미지 수평 뒤집기 설정\n",
        "    vertical_flip=True,         # 이미지 수직 뒤집기 설정\n",
        "    fill_mode='nearest',        # 이미지 편형 시 채워지는 값의 방식 설정\n",
        "    brightness_range=[0.5, 1.5],  # 이미지 밝기 변화 범위 설정\n",
        ")\n",
        "\n",
        "# Augmentation을 적용하여 데이터를 증강\n",
        "augmented_images = []\n",
        "augmented_labels = []\n",
        "for image, label in zip(X_train, y_train):\n",
        "    # 이미지를 3D 배열로 변환 (높이, 너비, 채널)\n",
        "    image_3d = image[:, :, :3]  # 채널 정보만 가져오기\n",
        "    augmented_image = datagen.random_transform(image_3d)\n",
        "    augmented_images.append(augmented_image)\n",
        "    augmented_labels.append(label)\n",
        "\n",
        "augmented_images = np.array(augmented_images)\n",
        "augmented_labels = np.array(augmented_labels)\n",
        "\n",
        "# 증강된 이미지와 레이블을 기존 데이터와 병합\n",
        "X_train = np.concatenate((X_train, augmented_images), axis=0)\n",
        "y_train = np.concatenate((y_train, augmented_labels), axis=0)\n",
        "\n",
        "# 증강 후의 이미지 개수와 레이블 개수 확인\n",
        "print(\"X_train shape after augmentation:\", X_train.shape)\n",
        "print(\"y_train shape after augmentation:\", y_train.shape)\n",
        "\n"
      ],
      "metadata": {
        "colab": {
          "base_uri": "https://localhost:8080/"
        },
        "id": "F9vTWnS9iaWD",
        "outputId": "fb421de8-3f27-47fd-96b7-49c1e917d533"
      },
      "execution_count": 6,
      "outputs": [
        {
          "output_type": "stream",
          "name": "stdout",
          "text": [
            "X_train shape after augmentation: (1804, 224, 224, 3)\n",
            "y_train shape after augmentation: (1804,)\n"
          ]
        }
      ]
    },
    {
      "cell_type": "markdown",
      "source": [],
      "metadata": {
        "id": "OtSsu-oqkBYt"
      }
    },
    {
      "cell_type": "code",
      "source": [
        "# Convert the images to float32 and then normalize by dividing by 255\n",
        "X_train = X_train / 255\n",
        "X_val = X_val / 255\n",
        "X_test = X_test / 255"
      ],
      "metadata": {
        "id": "9xLCWy0sgnHi"
      },
      "execution_count": 7,
      "outputs": []
    },
    {
      "cell_type": "markdown",
      "source": [
        "# Model compile"
      ],
      "metadata": {
        "id": "27o0GAL8vxt0"
      }
    },
    {
      "cell_type": "code",
      "source": [
        "from keras.callbacks import ReduceLROnPlateau\n",
        "\n",
        "# ReduceLROnPlateau 콜백 설정\n",
        "reduce_lr = ReduceLROnPlateau(monitor='val_accuracy', factor=0.1, patience=3, min_lr=0.000001, verbose=1)\n"
      ],
      "metadata": {
        "id": "Tk8H4fh400Ed"
      },
      "execution_count": 8,
      "outputs": []
    },
    {
      "cell_type": "code",
      "source": [
        "from tensorflow.keras.optimizers import Adam, SGD\n",
        "\n",
        "model.compile(optimizer = Adam(learning_rate = 0.0001),\n",
        "                       loss = 'sparse_categorical_crossentropy',\n",
        "                       metrics = ['accuracy'])"
      ],
      "metadata": {
        "id": "8GGt1gLiv26c"
      },
      "execution_count": 9,
      "outputs": []
    },
    {
      "cell_type": "markdown",
      "source": [
        "# 모델 Train, test"
      ],
      "metadata": {
        "id": "XzyLde6ytRLf"
      }
    },
    {
      "cell_type": "markdown",
      "source": [
        "## Model Train"
      ],
      "metadata": {
        "id": "NZQFhhSBtQPQ"
      }
    },
    {
      "cell_type": "code",
      "source": [
        "# eager mode 실행\n",
        "tf.config.run_functions_eagerly(True)"
      ],
      "metadata": {
        "id": "rWAZ_nbaYAWg"
      },
      "execution_count": null,
      "outputs": []
    },
    {
      "cell_type": "code",
      "source": [
        "EPOCH = 30\n",
        "BATCH_SIZE = 16\n",
        "\n",
        "# 모델 훈련\n",
        "history = model.fit(X_train, y_train, epochs = EPOCH,\n",
        "                             batch_size = BATCH_SIZE,\n",
        "                             validation_data = (X_val, y_val), verbose = 1,\n",
        "                             callbacks = [reduce_lr])"
      ],
      "metadata": {
        "colab": {
          "base_uri": "https://localhost:8080/"
        },
        "id": "YcC2HZ2n4d9R",
        "outputId": "a4781219-7da5-478f-cb01-0ad5e07c10ec"
      },
      "execution_count": 10,
      "outputs": [
        {
          "output_type": "stream",
          "name": "stdout",
          "text": [
            "Epoch 1/30\n",
            "113/113 [==============================] - 47s 263ms/step - loss: 0.9181 - accuracy: 0.6414 - val_loss: 1.0895 - val_accuracy: 0.4833 - lr: 1.0000e-04\n",
            "Epoch 2/30\n",
            "113/113 [==============================] - 27s 241ms/step - loss: 0.7776 - accuracy: 0.7167 - val_loss: 1.0914 - val_accuracy: 0.4833 - lr: 1.0000e-04\n",
            "Epoch 3/30\n",
            "113/113 [==============================] - 28s 245ms/step - loss: 0.7055 - accuracy: 0.7528 - val_loss: 1.1136 - val_accuracy: 0.4833 - lr: 1.0000e-04\n",
            "Epoch 4/30\n",
            "113/113 [==============================] - 28s 245ms/step - loss: 0.6566 - accuracy: 0.7622 - val_loss: 1.0951 - val_accuracy: 0.5333 - lr: 1.0000e-04\n",
            "Epoch 5/30\n",
            "113/113 [==============================] - 28s 248ms/step - loss: 0.6255 - accuracy: 0.7772 - val_loss: 1.1831 - val_accuracy: 0.5111 - lr: 1.0000e-04\n",
            "Epoch 6/30\n",
            "113/113 [==============================] - 28s 250ms/step - loss: 0.5919 - accuracy: 0.7816 - val_loss: 0.7367 - val_accuracy: 0.8167 - lr: 1.0000e-04\n",
            "Epoch 7/30\n",
            "113/113 [==============================] - 28s 250ms/step - loss: 0.5635 - accuracy: 0.7955 - val_loss: 0.6016 - val_accuracy: 0.8278 - lr: 1.0000e-04\n",
            "Epoch 8/30\n",
            "113/113 [==============================] - 29s 253ms/step - loss: 0.5448 - accuracy: 0.7993 - val_loss: 0.7174 - val_accuracy: 0.8167 - lr: 1.0000e-04\n",
            "Epoch 9/30\n",
            "113/113 [==============================] - 29s 253ms/step - loss: 0.5203 - accuracy: 0.8082 - val_loss: 0.7386 - val_accuracy: 0.7556 - lr: 1.0000e-04\n",
            "Epoch 10/30\n",
            "113/113 [==============================] - ETA: 0s - loss: 0.5095 - accuracy: 0.8110\n",
            "Epoch 10: ReduceLROnPlateau reducing learning rate to 9.999999747378752e-06.\n",
            "113/113 [==============================] - 29s 254ms/step - loss: 0.5095 - accuracy: 0.8110 - val_loss: 0.7108 - val_accuracy: 0.6833 - lr: 1.0000e-04\n",
            "Epoch 11/30\n",
            "113/113 [==============================] - 29s 254ms/step - loss: 0.4961 - accuracy: 0.8215 - val_loss: 0.4982 - val_accuracy: 0.8389 - lr: 1.0000e-05\n",
            "Epoch 12/30\n",
            "113/113 [==============================] - 29s 254ms/step - loss: 0.4990 - accuracy: 0.8187 - val_loss: 0.5090 - val_accuracy: 0.8556 - lr: 1.0000e-05\n",
            "Epoch 13/30\n",
            "113/113 [==============================] - 29s 254ms/step - loss: 0.5026 - accuracy: 0.8099 - val_loss: 0.5101 - val_accuracy: 0.8556 - lr: 1.0000e-05\n",
            "Epoch 14/30\n",
            "113/113 [==============================] - 29s 254ms/step - loss: 0.4970 - accuracy: 0.8287 - val_loss: 0.4910 - val_accuracy: 0.8444 - lr: 1.0000e-05\n",
            "Epoch 15/30\n",
            "113/113 [==============================] - ETA: 0s - loss: 0.4945 - accuracy: 0.8204\n",
            "Epoch 15: ReduceLROnPlateau reducing learning rate to 1e-06.\n",
            "113/113 [==============================] - 29s 254ms/step - loss: 0.4945 - accuracy: 0.8204 - val_loss: 0.4934 - val_accuracy: 0.8500 - lr: 1.0000e-05\n",
            "Epoch 16/30\n",
            "113/113 [==============================] - 29s 254ms/step - loss: 0.4858 - accuracy: 0.8265 - val_loss: 0.4925 - val_accuracy: 0.8500 - lr: 1.0000e-06\n",
            "Epoch 17/30\n",
            "113/113 [==============================] - 29s 254ms/step - loss: 0.4895 - accuracy: 0.8182 - val_loss: 0.4921 - val_accuracy: 0.8500 - lr: 1.0000e-06\n",
            "Epoch 18/30\n",
            "113/113 [==============================] - 29s 254ms/step - loss: 0.4959 - accuracy: 0.8226 - val_loss: 0.4921 - val_accuracy: 0.8500 - lr: 1.0000e-06\n",
            "Epoch 19/30\n",
            "113/113 [==============================] - 29s 254ms/step - loss: 0.4876 - accuracy: 0.8265 - val_loss: 0.4923 - val_accuracy: 0.8500 - lr: 1.0000e-06\n",
            "Epoch 20/30\n",
            "113/113 [==============================] - 29s 253ms/step - loss: 0.4930 - accuracy: 0.8176 - val_loss: 0.4920 - val_accuracy: 0.8500 - lr: 1.0000e-06\n",
            "Epoch 21/30\n",
            "113/113 [==============================] - 29s 253ms/step - loss: 0.5009 - accuracy: 0.8193 - val_loss: 0.4916 - val_accuracy: 0.8500 - lr: 1.0000e-06\n",
            "Epoch 22/30\n",
            "113/113 [==============================] - 29s 254ms/step - loss: 0.4991 - accuracy: 0.8204 - val_loss: 0.4920 - val_accuracy: 0.8500 - lr: 1.0000e-06\n",
            "Epoch 23/30\n",
            "113/113 [==============================] - 29s 254ms/step - loss: 0.4844 - accuracy: 0.8271 - val_loss: 0.4921 - val_accuracy: 0.8500 - lr: 1.0000e-06\n",
            "Epoch 24/30\n",
            "113/113 [==============================] - 29s 253ms/step - loss: 0.4837 - accuracy: 0.8221 - val_loss: 0.4914 - val_accuracy: 0.8500 - lr: 1.0000e-06\n",
            "Epoch 25/30\n",
            "113/113 [==============================] - 29s 253ms/step - loss: 0.4917 - accuracy: 0.8271 - val_loss: 0.4913 - val_accuracy: 0.8500 - lr: 1.0000e-06\n",
            "Epoch 26/30\n",
            "113/113 [==============================] - 29s 253ms/step - loss: 0.4996 - accuracy: 0.8143 - val_loss: 0.4903 - val_accuracy: 0.8500 - lr: 1.0000e-06\n",
            "Epoch 27/30\n",
            "113/113 [==============================] - 29s 254ms/step - loss: 0.4896 - accuracy: 0.8271 - val_loss: 0.4904 - val_accuracy: 0.8500 - lr: 1.0000e-06\n",
            "Epoch 28/30\n",
            "113/113 [==============================] - 29s 253ms/step - loss: 0.4813 - accuracy: 0.8293 - val_loss: 0.4899 - val_accuracy: 0.8500 - lr: 1.0000e-06\n",
            "Epoch 29/30\n",
            "113/113 [==============================] - 29s 254ms/step - loss: 0.4829 - accuracy: 0.8276 - val_loss: 0.4895 - val_accuracy: 0.8500 - lr: 1.0000e-06\n",
            "Epoch 30/30\n",
            "113/113 [==============================] - 29s 254ms/step - loss: 0.4901 - accuracy: 0.8182 - val_loss: 0.4897 - val_accuracy: 0.8500 - lr: 1.0000e-06\n"
          ]
        }
      ]
    },
    {
      "cell_type": "code",
      "source": [
        "EPOCH = 30\n",
        "BATCH_SIZE = 20\n",
        "\n",
        "# 모델 훈련\n",
        "history = model.fit(X_train, y_train, epochs = EPOCH,\n",
        "                    batch_size = BATCH_SIZE,\n",
        "                    validation_data = (X_val, y_val),\n",
        "                    verbose = 1)"
      ],
      "metadata": {
        "id": "KyODRAlztWy7"
      },
      "execution_count": null,
      "outputs": []
    },
    {
      "cell_type": "markdown",
      "source": [
        "### Train, Validation loss Graph"
      ],
      "metadata": {
        "id": "kktIHzQGujsh"
      }
    },
    {
      "cell_type": "code",
      "source": [
        "plt.plot(history.history['loss'], label = 'Train Loss')\n",
        "plt.plot(history.history['val_loss'], label = 'Validation Loss')\n",
        "plt.title('Train & Validation Loss Graph')\n",
        "plt.xlabel('Epochs')\n",
        "plt.ylabel('Loss')\n",
        "plt.legend()\n",
        "plt.show()"
      ],
      "metadata": {
        "colab": {
          "base_uri": "https://localhost:8080/",
          "height": 472
        },
        "id": "xrBrXtdZuiIJ",
        "outputId": "ce6d016e-2c69-4e3c-966e-85a5d2d56e08"
      },
      "execution_count": 11,
      "outputs": [
        {
          "output_type": "display_data",
          "data": {
            "text/plain": [
              "<Figure size 640x480 with 1 Axes>"
            ],
            "image/png": "[encoded data removed]"
          },
          "metadata": {}
        }
      ]
    },
    {
      "cell_type": "markdown",
      "source": [
        "### Accuracy Graph"
      ],
      "metadata": {
        "id": "wd_5kkYZvoGz"
      }
    },
    {
      "cell_type": "code",
      "source": [
        "plt.plot(history.history['accuracy'], label = 'Train Accuracy')\n",
        "plt.plot(history.history['val_accuracy'], label = 'Validation Accuracy')\n",
        "plt.title('Train & Validation Accuracy Graph')\n",
        "plt.xlabel('Epochs')\n",
        "plt.ylabel('Accuracy')\n",
        "plt.legend()\n",
        "plt.show()"
      ],
      "metadata": {
        "colab": {
          "base_uri": "https://localhost:8080/",
          "height": 472
        },
        "id": "CBMnwJ7NvtAW",
        "outputId": "392d02e7-f3c2-47fd-f34c-bdb4dee686fd"
      },
      "execution_count": 12,
      "outputs": [
        {
          "output_type": "display_data",
          "data": {
            "text/plain": [
              "<Figure size 640x480 with 1 Axes>"
            ],
            "image/png": "[encoded data removed]"
          },
          "metadata": {}
        }
      ]
    },
    {
      "cell_type": "markdown",
      "source": [
        "## Model Test"
      ],
      "metadata": {
        "id": "4I5DE8egvfWc"
      }
    },
    {
      "cell_type": "code",
      "source": [
        "test_loss, test_accuracy = model.evaluate(X_test, y_test)\n",
        "print(\"Test Loss: \", test_loss)\n",
        "print(\"Test Accuracy:\", test_accuracy)"
      ],
      "metadata": {
        "colab": {
          "base_uri": "https://localhost:8080/"
        },
        "id": "GKk1tnruvjkq",
        "outputId": "01ac75a6-e29e-44d9-e59f-2c54f8a3943c"
      },
      "execution_count": 13,
      "outputs": [
        {
          "output_type": "stream",
          "name": "stdout",
          "text": [
            "2/2 [==============================] - 2s 569ms/step - loss: 0.4388 - accuracy: 0.8696\n",
            "Test Loss:  0.4387907087802887\n",
            "Test Accuracy: 0.8695651888847351\n"
          ]
        }
      ]
    },
    {
      "cell_type": "markdown",
      "source": [
        "# 폐기"
      ],
      "metadata": {
        "id": "P2R1g6ZxkHYa"
      }
    },
    {
      "cell_type": "code",
      "source": [
        "# 데이터 증강을 위한 ImageDataGenerator 생성\n",
        "datagen = ImageDataGenerator(\n",
        "    rotation_range=60,          # 이미지 회전 범위 설정\n",
        "    width_shift_range=0.05,      # 이미지 가로 이동 범위 설정\n",
        "    height_shift_range=0.05,     # 이미지 세로 이동 범위 설정\n",
        "    shear_range=0.1,            # 이미지 전단 변환 범위 설정\n",
        "    zoom_range=0.2,             # 이미지 확대/축소 범위 설정\n",
        "    horizontal_flip=True,       # 이미지 수평 뒤집기 설정\n",
        "    vertical_flip=True,         # 이미지 수직 뒤집기 설정\n",
        "    fill_mode='nearest',        # 이미지 편형 시 채워지는 값의 방식 설정\n",
        "    brightness_range=[0.5, 1.5],  # 이미지 밝기 변화 범위 설정\n",
        ")\n",
        "\n",
        "# Augmentation을 적용하여 데이터를 증강\n",
        "augmented_images = []\n",
        "augmented_labels = []\n",
        "for image, label in zip(X_val, y_val):\n",
        "    # 이미지를 3D 배열로 변환 (높이, 너비, 채널)\n",
        "    image_3d = image[:, :, :3]  # 채널 정보만 가져오기\n",
        "    augmented_image = datagen.random_transform(image_3d)\n",
        "    augmented_images.append(augmented_image)\n",
        "    augmented_labels.append(label)\n",
        "\n",
        "augmented_images = np.array(augmented_images)\n",
        "augmented_labels = np.array(augmented_labels)\n",
        "\n",
        "# 증강된 이미지와 레이블을 기존 데이터와 병합\n",
        "X_val = np.concatenate((X_val, augmented_images), axis=0)\n",
        "y_val = np.concatenate((y_val, augmented_labels), axis=0)\n",
        "\n",
        "# 증강 후의 이미지 개수와 레이블 개수 확인\n",
        "print(\"X_val shape after augmentation:\", X_val.shape)\n",
        "print(\"y_val shape after augmentation:\", y_val.shape)\n",
        "\n"
      ],
      "metadata": {
        "colab": {
          "base_uri": "https://localhost:8080/"
        },
        "id": "A0ahzIwmC-gA",
        "outputId": "48dc2997-47bf-4768-96e1-dc2bec87ba7b"
      },
      "execution_count": 7,
      "outputs": [
        {
          "output_type": "stream",
          "name": "stdout",
          "text": [
            "X_val shape after augmentation: (360, 224, 224, 3)\n",
            "y_val shape after augmentation: (360,)\n"
          ]
        }
      ]
    }
  ]
}