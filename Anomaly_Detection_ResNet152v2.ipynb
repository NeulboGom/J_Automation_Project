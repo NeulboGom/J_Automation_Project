{
  "nbformat": 4,
  "nbformat_minor": 0,
  "metadata": {
    "colab": {
      "provenance": [],
      "gpuType": "T4",
      "machine_shape": "hm",
      "authorship_tag": "ABX9TyNy62THyRnscrBJpM3qVP4A",
      "include_colab_link": true
    },
    "kernelspec": {
      "name": "python3",
      "display_name": "Python 3"
    },
    "language_info": {
      "name": "python"
    },
    "accelerator": "GPU"
  },
  "cells": [
    {
      "cell_type": "markdown",
      "metadata": {
        "id": "view-in-github",
        "colab_type": "text"
      },
      "source": [
        "<a href=\"https://colab.research.google.com/github/NeulboGom/J_Automation_Project/blob/JH/Anomaly_Detection_ResNet152v2.ipynb\" target=\"_parent\"><img src=\"https://colab.research.google.com/assets/colab-badge.svg\" alt=\"Open In Colab\"/></a>"
      ]
    },
    {
      "cell_type": "code",
      "source": [
        "from google.colab import drive\n",
        "drive.mount('/content/drive')"
      ],
      "metadata": {
        "id": "6YPko2CpzWVL",
        "colab": {
          "base_uri": "https://localhost:8080/"
        },
        "outputId": "425422ec-b482-40d4-f1f1-9e50384eaaa8"
      },
      "execution_count": null,
      "outputs": [
        {
          "output_type": "stream",
          "name": "stdout",
          "text": [
            "Mounted at /content/drive\n"
          ]
        }
      ]
    },
    {
      "cell_type": "code",
      "execution_count": null,
      "metadata": {
        "id": "Y5oE_SARvpgV"
      },
      "outputs": [],
      "source": [
        "import os\n",
        "from glob import glob\n",
        "from tqdm import tqdm\n",
        "from PIL import Image\n",
        "import matplotlib.pyplot as plt\n",
        "import matplotlib.image\n",
        "import pandas as pd\n",
        "import csv\n",
        "import numpy as np\n",
        "import tensorflow as tf\n",
        "from tensorflow import keras\n",
        "import albumentations as albu\n",
        "from tensorflow.keras import layers, models, optimizers\n",
        "from tensorflow.keras.models import Model\n",
        "from tensorflow.keras.layers import Input, Flatten, Conv2D, Dense, Dropout\n",
        "from tqdm import tqdm"
      ]
    },
    {
      "cell_type": "markdown",
      "source": [
        "# 모델 가져오기"
      ],
      "metadata": {
        "id": "XyvdUZINF80d"
      }
    },
    {
      "cell_type": "markdown",
      "source": [
        "## ResNet152 모델을 가져온다\n",
        " - ~~데이터 수는 적고, ImageNet 데이터와 차이가 많이 나기 때문에\n",
        "   일부 layer는 고정하고, 적당한 양의 layer는 fine tuning 및 classifier 추가~~\n",
        " - 그냥 layer 고정 없이 그대로 진행\n",
        "  "
      ],
      "metadata": {
        "id": "JOTZ7HciJLRc"
      }
    },
    {
      "cell_type": "code",
      "source": [
        "# 모델 불러오기\n",
        "resnet_model = keras.applications.resnet_v2.ResNet152V2(weights = None,\n",
        "                                             include_top = False,\n",
        "                                             pooling = None, # pooling을 None으로 설정하여 마지막 레이어 뒤에 추가 레이어를 연결할 수 있도록 함\n",
        "                                             input_tensor = Input(shape = (224, 224, 3)),\n",
        "                                             classes = 3)\n",
        "\n",
        "'''\n",
        "include_top: 네트워크에 FC-layer, 즉 Classifier를 넣을지 말지 Boolean (커스텀 할지 말지 여부 결정)\n",
        "weights: 구조만 가져오고 싶으면 None, 아니면 default가 'imagenet'이기 때문에 속성 넣지 않기\n",
        "input_tensor: 첫번째 Conv2D의 input_shape라 생각하면 됨 (선언 방법: keras.layers.Input(shape=(w, h, c)))\n",
        "pooling: include_top이 False일 때 None, avg, max 중 선택\n",
        "classes: include_top이 True이고 weights가 None일 때 커스텀으로 구별할 클래스(레이블)의 수\n",
        "'''"
      ],
      "metadata": {
        "id": "v04Tp92MzVOy",
        "colab": {
          "base_uri": "https://localhost:8080/",
          "height": 91
        },
        "outputId": "161b31e4-5a22-41c6-9bd8-8107ebe8697b"
      },
      "execution_count": null,
      "outputs": [
        {
          "output_type": "execute_result",
          "data": {
            "text/plain": [
              "\"\\ninclude_top: 네트워크에 FC-layer, 즉 Classifier를 넣을지 말지 Boolean (커스텀 할지 말지 여부 결정)\\nweights: 구조만 가져오고 싶으면 None, 아니면 default가 'imagenet'이기 때문에 속성 넣지 않기\\ninput_tensor: 첫번째 Conv2D의 input_shape라 생각하면 됨 (선언 방법: keras.layers.Input(shape=(w, h, c)))\\npooling: include_top이 False일 때 None, avg, max 중 선택\\nclasses: include_top이 True이고 weights가 None일 때 커스텀으로 구별할 클래스(레이블)의 수\\n\""
            ],
            "application/vnd.google.colaboratory.intrinsic+json": {
              "type": "string"
            }
          },
          "metadata": {},
          "execution_count": 4
        }
      ]
    },
    {
      "cell_type": "code",
      "source": [
        "res_edit_model.summary()"
      ],
      "metadata": {
        "id": "s2R5jamok3Kl"
      },
      "execution_count": null,
      "outputs": []
    },
    {
      "cell_type": "markdown",
      "source": [
        "### ~~일부 layer 고정해서 fine tuning~~ / 폐기"
      ],
      "metadata": {
        "id": "os3K6Ko2MC-x"
      }
    },
    {
      "cell_type": "code",
      "source": [
        "# ResNet50 모델 안 layer들 중 마지막 5개를 제외한 나머지 layer들은 고정\n",
        "for layer in resnet_model.layers[:-25]:\n",
        "  layer.trainable = False"
      ],
      "metadata": {
        "id": "cwyObUEgcYdZ"
      },
      "execution_count": null,
      "outputs": []
    },
    {
      "cell_type": "code",
      "source": [
        "from keras.layers.normalization.batch_normalization_v1 import BatchNormalization\n",
        "\n",
        "# 최상위 레이어 추가 및 3개 클래스에 대한 Dense layer(Classifier 제작)\n",
        "x = resnet_model.layers[-1].output\n",
        "x = tf.keras.layers.GlobalAveragePooling2D()(x)\n",
        "x = Flatten()(x)\n",
        "x = Dense(128, activation = 'relu')(x)\n",
        "x = BatchNormalization()(x)\n",
        "x = Dropout(0.2)(x)\n",
        "x = Dense(64, activation = 'relu')(x)\n",
        "x = BatchNormalization()(x)\n",
        "x = Dropout(0.2)(x)\n",
        "x = Dense(64, activation = 'relu')(x)\n",
        "x = BatchNormalization()(x)\n",
        "x = Dropout(0.2)(x)\n",
        "x = Dense(64, activation = 'relu')(x)\n",
        "outputs = Dense(3, activation = 'softmax')(x)\n",
        "\n",
        "# 수정된 레이어를 포함하는 모델\n",
        "res_edit_model = Model(inputs = resnet_model.input, outputs = outputs)"
      ],
      "metadata": {
        "id": "8zSU5la_JJ8e"
      },
      "execution_count": null,
      "outputs": []
    },
    {
      "cell_type": "markdown",
      "source": [
        "# 이미지 데이터 전처리"
      ],
      "metadata": {
        "id": "MSjPREQab49c"
      }
    },
    {
      "cell_type": "code",
      "source": [
        "def preprocess_image(image_path, target_size=(224, 224)):\n",
        "    # 이미지 파일 경로 불러오기\n",
        "    image_list = glob(os.path.join(image_path, '*.png'))\n",
        "\n",
        "    # 빈 numpy 배열 생성 (4차원 배열로 초기화)\n",
        "    img_array = np.empty((len(image_list), *target_size, 3), dtype=np.uint8)\n",
        "\n",
        "    for i, img in enumerate(image_list):\n",
        "        image = Image.open(img)\n",
        "        image = image.resize(target_size)\n",
        "\n",
        "        # 흑백 이미지를 3차원 RGB 형태로 변경\n",
        "        image = image.convert('RGB')\n",
        "\n",
        "        img_array[i] = np.array(image)\n",
        "\n",
        "    return img_array\n"
      ],
      "metadata": {
        "id": "mw3sNQveb_GJ"
      },
      "execution_count": null,
      "outputs": []
    },
    {
      "cell_type": "markdown",
      "source": [
        "## Train, Validation, Test 데이터 나누기"
      ],
      "metadata": {
        "id": "iX7-vmNMgpO_"
      }
    },
    {
      "cell_type": "code",
      "source": [
        "from sklearn.model_selection import train_test_split\n",
        "\n",
        "X_normal = preprocess_image('/content/drive/MyDrive/Project/up/good_up')\n",
        "X_abnormal = preprocess_image('/content/drive/MyDrive/Project/up/notgood_up')\n",
        "X_check = preprocess_image('/content/drive/MyDrive/Project/up/check_up')\n",
        "\n",
        "# 레이블 생성\n",
        "# 정상 0, 비정상, 1, 체크 2\n",
        "y_normal = np.zeros(len(X_normal))\n",
        "y_abnormal = np.ones(len(X_abnormal))\n",
        "y_check = np.full(len(X_check), 2)\n",
        "\n",
        "# 데이터 X, y로 합치기\n",
        "X_all = np.concatenate((X_normal, X_abnormal, X_check), axis = 0)\n",
        "y_all = np.concatenate((y_normal, y_abnormal, y_check), axis = 0)\n",
        "\n",
        "# 각 데이터를 train, validation, test 데이터로 나누기\n",
        "X_train, X_temp, y_train, y_temp = train_test_split(X_all, y_all, test_size = 0.2, random_state = 42) # Train 과 나머지로 나눔\n",
        "X_val, X_test, y_val, y_test = train_test_split(X_temp, y_temp, test_size = 0.2, random_state = 42) # 나머지 중에서 Validation과 Test로 나눔"
      ],
      "metadata": {
        "id": "8AnUn_cvcP5U"
      },
      "execution_count": null,
      "outputs": []
    },
    {
      "cell_type": "code",
      "source": [
        "# Data Shape 확인\n",
        "print(\"Train data shape:\", X_train.shape)\n",
        "print(\"Validation data shape:\", X_val.shape)\n",
        "print(\"Test data shape:\", X_test.shape)"
      ],
      "metadata": {
        "colab": {
          "base_uri": "https://localhost:8080/"
        },
        "id": "zorrcw6tf8qc",
        "outputId": "b50555d2-d65e-4f75-b9e7-2e09c16a082f"
      },
      "execution_count": null,
      "outputs": [
        {
          "output_type": "stream",
          "name": "stdout",
          "text": [
            "Train data shape: (582, 224, 224, 3)\n",
            "Validation data shape: (116, 224, 224, 3)\n",
            "Test data shape: (30, 224, 224, 3)\n"
          ]
        }
      ]
    },
    {
      "cell_type": "markdown",
      "source": [
        "## Data Normalization, augmentation"
      ],
      "metadata": {
        "id": "GEoJ959KgudZ"
      }
    },
    {
      "cell_type": "code",
      "source": [
        "from tensorflow.keras.preprocessing.image import ImageDataGenerator\n",
        "\n",
        "# 데이터 증강을 위한 ImageDataGenerator 생성\n",
        "datagen = ImageDataGenerator(\n",
        "    rotation_range=60,          # 이미지 회전 범위 설정\n",
        "    width_shift_range=0.2,      # 이미지 가로 이동 범위 설정\n",
        "    height_shift_range=0.2,     # 이미지 세로 이동 범위 설정\n",
        "    shear_range=0.2,            # 이미지 전단 변환 범위 설정\n",
        "    zoom_range=0.2,             # 이미지 확대/축소 범위 설정\n",
        "    horizontal_flip=True,       # 이미지 수평 뒤집기 설정\n",
        "    vertical_flip=True,         # 이미지 수직 뒤집기 설정\n",
        "    fill_mode='nearest',        # 이미지 편형 시 채워지는 값의 방식 설정\n",
        "    brightness_range=[0.5, 1.5],  # 이미지 밝기 변화 범위 설정\n",
        ")\n",
        "\n",
        "# Augmentation을 적용하여 데이터를 증강\n",
        "augmented_images = []\n",
        "augmented_labels = []\n",
        "for image, label in zip(X_train, y_train):\n",
        "    # 이미지를 3D 배열로 변환 (높이, 너비, 채널)\n",
        "    image_3d = image[:, :, :3]  # 채널 정보만 가져오기\n",
        "    augmented_image = datagen.random_transform(image_3d)\n",
        "    augmented_images.append(augmented_image)\n",
        "    augmented_labels.append(label)\n",
        "\n",
        "augmented_images = np.array(augmented_images)\n",
        "augmented_labels = np.array(augmented_labels)\n",
        "\n",
        "# 증강된 이미지와 레이블을 기존 데이터와 병합\n",
        "X_train = np.concatenate((X_train, augmented_images), axis=0)\n",
        "y_train = np.concatenate((y_train, augmented_labels), axis=0)\n",
        "\n",
        "# 증강 후의 이미지 개수와 레이블 개수 확인\n",
        "print(\"X_train shape after augmentation:\", X_train.shape)\n",
        "print(\"y_train shape after augmentation:\", y_train.shape)\n",
        "\n"
      ],
      "metadata": {
        "colab": {
          "base_uri": "https://localhost:8080/"
        },
        "id": "F9vTWnS9iaWD",
        "outputId": "9583d910-8718-4169-836a-5d534b84135c"
      },
      "execution_count": null,
      "outputs": [
        {
          "output_type": "stream",
          "name": "stdout",
          "text": [
            "X_train shape after augmentation: (1164, 224, 224, 3)\n",
            "y_train shape after augmentation: (1164,)\n"
          ]
        }
      ]
    },
    {
      "cell_type": "code",
      "source": [
        "# Convert the images to float32 and then normalize by dividing by 255\n",
        "X_train = X_train / 255\n",
        "X_val = X_val / 255\n",
        "X_test = X_test / 255"
      ],
      "metadata": {
        "id": "9xLCWy0sgnHi"
      },
      "execution_count": null,
      "outputs": []
    },
    {
      "cell_type": "markdown",
      "source": [
        "# Model compile"
      ],
      "metadata": {
        "id": "27o0GAL8vxt0"
      }
    },
    {
      "cell_type": "code",
      "source": [
        "from keras.callbacks import ReduceLROnPlateau\n",
        "\n",
        "# ReduceLROnPlateau 콜백 설정\n",
        "reduce_lr = ReduceLROnPlateau(monitor='val_accuracy', factor=0.1, patience=3, min_lr=0.000001, verbose=1)\n"
      ],
      "metadata": {
        "id": "Tk8H4fh400Ed"
      },
      "execution_count": null,
      "outputs": []
    },
    {
      "cell_type": "code",
      "source": [
        "from tensorflow.keras.optimizers import Adam, SGD\n",
        "\n",
        "res_edit_model.compile(optimizer = SGD(learning_rate = 0.001),\n",
        "                       loss = 'sparse_categorical_crossentropy',\n",
        "                       metrics = ['accuracy'])"
      ],
      "metadata": {
        "id": "8GGt1gLiv26c"
      },
      "execution_count": null,
      "outputs": []
    },
    {
      "cell_type": "markdown",
      "source": [
        "# 모델 Train, test"
      ],
      "metadata": {
        "id": "XzyLde6ytRLf"
      }
    },
    {
      "cell_type": "markdown",
      "source": [
        "## Model Train"
      ],
      "metadata": {
        "id": "NZQFhhSBtQPQ"
      }
    },
    {
      "cell_type": "code",
      "source": [
        "# eager mode 실행\n",
        "tf.config.run_functions_eagerly(True)"
      ],
      "metadata": {
        "id": "rWAZ_nbaYAWg"
      },
      "execution_count": null,
      "outputs": []
    },
    {
      "cell_type": "code",
      "source": [
        "EPOCH = 30\n",
        "BATCH_SIZE = 32\n",
        "\n",
        "# 모델 훈련\n",
        "history = res_edit_model.fit(X_train, y_train, epochs = EPOCH,\n",
        "                             batch_size = BATCH_SIZE,\n",
        "                             validation_data = (X_val, y_val), verbose = 1,\n",
        "                             callbacks = [reduce_lr])"
      ],
      "metadata": {
        "id": "KyODRAlztWy7",
        "colab": {
          "base_uri": "https://localhost:8080/"
        },
        "outputId": "ebbf9114-2b0b-4674-bd0c-2eb8f056dd10"
      },
      "execution_count": null,
      "outputs": [
        {
          "output_type": "stream",
          "name": "stdout",
          "text": [
            "Epoch 1/30\n",
            "37/37 [==============================] - 88s 819ms/step - loss: 0.8958 - accuracy: 0.6100 - val_loss: 0.9463 - val_accuracy: 0.7586 - lr: 0.0010\n",
            "Epoch 2/30\n",
            "37/37 [==============================] - 27s 728ms/step - loss: 0.6742 - accuracy: 0.7655 - val_loss: 0.8072 - val_accuracy: 0.8103 - lr: 0.0010\n",
            "Epoch 3/30\n",
            "37/37 [==============================] - 27s 718ms/step - loss: 0.5623 - accuracy: 0.8196 - val_loss: 0.6688 - val_accuracy: 0.8879 - lr: 0.0010\n",
            "Epoch 4/30\n",
            "37/37 [==============================] - 27s 718ms/step - loss: 0.5448 - accuracy: 0.8213 - val_loss: 0.5851 - val_accuracy: 0.8879 - lr: 0.0010\n",
            "Epoch 5/30\n",
            "37/37 [==============================] - 27s 722ms/step - loss: 0.5034 - accuracy: 0.8351 - val_loss: 0.5231 - val_accuracy: 0.8879 - lr: 0.0010\n",
            "Epoch 6/30\n",
            "37/37 [==============================] - ETA: 0s - loss: 0.4845 - accuracy: 0.8462\n",
            "Epoch 6: ReduceLROnPlateau reducing learning rate to 0.00010000000474974513.\n",
            "37/37 [==============================] - 27s 721ms/step - loss: 0.4845 - accuracy: 0.8462 - val_loss: 0.4606 - val_accuracy: 0.8879 - lr: 0.0010\n",
            "Epoch 7/30\n",
            "37/37 [==============================] - 27s 720ms/step - loss: 0.4772 - accuracy: 0.8488 - val_loss: 0.4298 - val_accuracy: 0.8879 - lr: 1.0000e-04\n",
            "Epoch 8/30\n",
            "37/37 [==============================] - 27s 720ms/step - loss: 0.4570 - accuracy: 0.8514 - val_loss: 0.4011 - val_accuracy: 0.8879 - lr: 1.0000e-04\n",
            "Epoch 9/30\n",
            "37/37 [==============================] - ETA: 0s - loss: 0.4551 - accuracy: 0.8557\n",
            "Epoch 9: ReduceLROnPlateau reducing learning rate to 1.0000000474974514e-05.\n",
            "37/37 [==============================] - 27s 720ms/step - loss: 0.4551 - accuracy: 0.8557 - val_loss: 0.3814 - val_accuracy: 0.8879 - lr: 1.0000e-04\n",
            "Epoch 10/30\n",
            "37/37 [==============================] - 27s 721ms/step - loss: 0.4511 - accuracy: 0.8608 - val_loss: 0.3656 - val_accuracy: 0.8879 - lr: 1.0000e-05\n",
            "Epoch 11/30\n",
            "37/37 [==============================] - 27s 722ms/step - loss: 0.4523 - accuracy: 0.8600 - val_loss: 0.3526 - val_accuracy: 0.8966 - lr: 1.0000e-05\n",
            "Epoch 12/30\n",
            "37/37 [==============================] - 27s 721ms/step - loss: 0.4613 - accuracy: 0.8505 - val_loss: 0.3433 - val_accuracy: 0.8966 - lr: 1.0000e-05\n",
            "Epoch 13/30\n",
            "37/37 [==============================] - 27s 721ms/step - loss: 0.4532 - accuracy: 0.8471 - val_loss: 0.3350 - val_accuracy: 0.8966 - lr: 1.0000e-05\n",
            "Epoch 14/30\n",
            "37/37 [==============================] - ETA: 0s - loss: 0.4847 - accuracy: 0.8376\n",
            "Epoch 14: ReduceLROnPlateau reducing learning rate to 1.0000000656873453e-06.\n",
            "37/37 [==============================] - 27s 721ms/step - loss: 0.4847 - accuracy: 0.8376 - val_loss: 0.3295 - val_accuracy: 0.8966 - lr: 1.0000e-05\n",
            "Epoch 15/30\n",
            "37/37 [==============================] - 27s 721ms/step - loss: 0.4458 - accuracy: 0.8574 - val_loss: 0.3256 - val_accuracy: 0.8966 - lr: 1.0000e-06\n",
            "Epoch 16/30\n",
            "37/37 [==============================] - 27s 722ms/step - loss: 0.4623 - accuracy: 0.8651 - val_loss: 0.3227 - val_accuracy: 0.8966 - lr: 1.0000e-06\n",
            "Epoch 17/30\n",
            "37/37 [==============================] - ETA: 0s - loss: 0.4585 - accuracy: 0.8514\n",
            "Epoch 17: ReduceLROnPlateau reducing learning rate to 1e-06.\n",
            "37/37 [==============================] - 27s 721ms/step - loss: 0.4585 - accuracy: 0.8514 - val_loss: 0.3211 - val_accuracy: 0.8966 - lr: 1.0000e-06\n",
            "Epoch 18/30\n",
            "37/37 [==============================] - 27s 720ms/step - loss: 0.4562 - accuracy: 0.8608 - val_loss: 0.3185 - val_accuracy: 0.8966 - lr: 1.0000e-06\n",
            "Epoch 19/30\n",
            "37/37 [==============================] - 27s 721ms/step - loss: 0.4620 - accuracy: 0.8591 - val_loss: 0.3175 - val_accuracy: 0.8966 - lr: 1.0000e-06\n",
            "Epoch 20/30\n",
            "37/37 [==============================] - 27s 721ms/step - loss: 0.4583 - accuracy: 0.8445 - val_loss: 0.3182 - val_accuracy: 0.8966 - lr: 1.0000e-06\n",
            "Epoch 21/30\n",
            "37/37 [==============================] - 27s 721ms/step - loss: 0.4726 - accuracy: 0.8557 - val_loss: 0.3179 - val_accuracy: 0.8966 - lr: 1.0000e-06\n",
            "Epoch 22/30\n",
            "37/37 [==============================] - 27s 721ms/step - loss: 0.4491 - accuracy: 0.8677 - val_loss: 0.3184 - val_accuracy: 0.8966 - lr: 1.0000e-06\n",
            "Epoch 23/30\n",
            "37/37 [==============================] - 27s 721ms/step - loss: 0.4794 - accuracy: 0.8471 - val_loss: 0.3173 - val_accuracy: 0.8966 - lr: 1.0000e-06\n",
            "Epoch 24/30\n",
            "37/37 [==============================] - 27s 721ms/step - loss: 0.4618 - accuracy: 0.8419 - val_loss: 0.3168 - val_accuracy: 0.8966 - lr: 1.0000e-06\n",
            "Epoch 25/30\n",
            "37/37 [==============================] - 27s 721ms/step - loss: 0.4324 - accuracy: 0.8711 - val_loss: 0.3165 - val_accuracy: 0.8966 - lr: 1.0000e-06\n",
            "Epoch 26/30\n",
            "37/37 [==============================] - 27s 721ms/step - loss: 0.4650 - accuracy: 0.8565 - val_loss: 0.3161 - val_accuracy: 0.8966 - lr: 1.0000e-06\n",
            "Epoch 27/30\n",
            "37/37 [==============================] - 27s 721ms/step - loss: 0.4398 - accuracy: 0.8703 - val_loss: 0.3171 - val_accuracy: 0.8966 - lr: 1.0000e-06\n",
            "Epoch 28/30\n",
            "37/37 [==============================] - 27s 721ms/step - loss: 0.4590 - accuracy: 0.8565 - val_loss: 0.3160 - val_accuracy: 0.8966 - lr: 1.0000e-06\n",
            "Epoch 29/30\n",
            "37/37 [==============================] - 27s 721ms/step - loss: 0.4505 - accuracy: 0.8557 - val_loss: 0.3171 - val_accuracy: 0.8966 - lr: 1.0000e-06\n",
            "Epoch 30/30\n",
            "37/37 [==============================] - 27s 721ms/step - loss: 0.4523 - accuracy: 0.8557 - val_loss: 0.3171 - val_accuracy: 0.8966 - lr: 1.0000e-06\n"
          ]
        }
      ]
    },
    {
      "cell_type": "markdown",
      "source": [
        "### Train, Validation loss Graph"
      ],
      "metadata": {
        "id": "kktIHzQGujsh"
      }
    },
    {
      "cell_type": "code",
      "source": [
        "plt.plot(history.history['loss'], label = 'Train Loss')\n",
        "plt.plot(history.history['val_loss'], label = 'Validation Loss')\n",
        "plt.title('Train & Validation Loss Graph')\n",
        "plt.xlabel('Epochs')\n",
        "plt.ylabel('Loss')\n",
        "plt.legend()\n",
        "plt.show()"
      ],
      "metadata": {
        "colab": {
          "base_uri": "https://localhost:8080/",
          "height": 472
        },
        "id": "xrBrXtdZuiIJ",
        "outputId": "e1df877b-bd69-45cb-e638-6c3b87e92220"
      },
      "execution_count": null,
      "outputs": [
        {
          "output_type": "display_data",
          "data": {
            "text/plain": [
              "<Figure size 640x480 with 1 Axes>"
            ],
            "image/png": "[encoded data removed]"
          },
          "metadata": {}
        }
      ]
    },
    {
      "cell_type": "markdown",
      "source": [
        "### Accuracy Graph"
      ],
      "metadata": {
        "id": "wd_5kkYZvoGz"
      }
    },
    {
      "cell_type": "code",
      "source": [
        "plt.plot(history.history['accuracy'], label = 'Train Accuracy')\n",
        "plt.plot(history.history['val_accuracy'], label = 'Validation Accuracy')\n",
        "plt.title('Train & Validation Accuracy Graph')\n",
        "plt.xlabel('Epochs')\n",
        "plt.ylabel('Accuracy')\n",
        "plt.legend()\n",
        "plt.show()"
      ],
      "metadata": {
        "colab": {
          "base_uri": "https://localhost:8080/",
          "height": 472
        },
        "id": "CBMnwJ7NvtAW",
        "outputId": "ca8e2498-5f2c-484d-f2ec-a4d325fcafc7"
      },
      "execution_count": null,
      "outputs": [
        {
          "output_type": "display_data",
          "data": {
            "text/plain": [
              "<Figure size 640x480 with 1 Axes>"
            ],
            "image/png": "[encoded data removed]"
          },
          "metadata": {}
        }
      ]
    },
    {
      "cell_type": "markdown",
      "source": [
        "## Model Test"
      ],
      "metadata": {
        "id": "4I5DE8egvfWc"
      }
    },
    {
      "cell_type": "code",
      "source": [
        "test_loss, test_accuracy = res_edit_model.evaluate(X_test, y_test)\n",
        "print(\"Test Loss: \", test_loss)\n",
        "print(\"Test Accuracy:\", test_accuracy)"
      ],
      "metadata": {
        "colab": {
          "base_uri": "https://localhost:8080/"
        },
        "id": "GKk1tnruvjkq",
        "outputId": "5e9b1e38-e662-4f1d-f23d-3b430e3fec12"
      },
      "execution_count": null,
      "outputs": [
        {
          "output_type": "stream",
          "name": "stdout",
          "text": [
            "1/1 [==============================] - 0s 310ms/step - loss: 0.2758 - accuracy: 0.9333\n",
            "Test Loss:  0.2758137881755829\n",
            "Test Accuracy: 0.9333333373069763\n"
          ]
        }
      ]
    }
  ]
}