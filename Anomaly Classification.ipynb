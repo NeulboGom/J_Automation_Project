{
 "cells": [
  {
   "cell_type": "code",
   "execution_count": null,
   "id": "992feb9a-4329-4c53-ac97-e742ad4a7edd",
   "metadata": {
    "tags": []
   },
   "outputs": [],
   "source": [
    "import os\n",
    "\n",
    "os.getcwd()"
   ]
  },
  {
   "cell_type": "code",
   "execution_count": 35,
   "id": "d33f4c25-14cb-47a9-a9ea-b1b346b199dc",
   "metadata": {},
   "outputs": [],
   "source": [
    "import os\n",
    "from glob import glob \n",
    "import cv2\n",
    "from tqdm import tqdm\n",
    "from PIL import Image\n",
    "import matplotlib.pyplot as plt\n",
    "import matplotlib.image\n",
    "import pandas as pd\n",
    "import csv"
   ]
  },
  {
   "cell_type": "markdown",
   "id": "78eeadf9-4ad9-4c3d-8d62-a6af9c72c9b5",
   "metadata": {
    "jp-MarkdownHeadingCollapsed": true,
    "tags": []
   },
   "source": [
    "# Image Crop"
   ]
  },
  {
   "cell_type": "code",
   "execution_count": null,
   "id": "5dea66b2-5648-4c2e-9a7c-20786e39bd1f",
   "metadata": {
    "tags": []
   },
   "outputs": [],
   "source": [
    "# (0, 0, 700, 700) -> (100, 100, 550, 550)\n",
    "# 이미지 crop 범위를 줄여서 이미지 용량을 줄이는 효과 기대\n",
    "\n",
    "root = './Dataset'\n",
    "img_list = glob(os.path.join(root,'**/*.png'),recursive=True)\n",
    "# glob 경로를 설정하여 리스트로 반환\n",
    "for img in tqdm(img_list):\n",
    "    img_data = Image.open(img)\n",
    "    area = (100,100,550,550)\n",
    "    cropped_img = img_data.crop(area)\n",
    "    cropped_img.save(img)"
   ]
  },
  {
   "cell_type": "markdown",
   "id": "a2f257a8-70fe-4d07-a780-7e98d0eb6ded",
   "metadata": {
    "jp-MarkdownHeadingCollapsed": true,
    "tags": []
   },
   "source": [
    "### glob는 경로를 설정하고, 그 안에 있는 파일들을 리스트로 반환한다 \n",
    "### recursive를 False로 두면 그냥 그 경로만, True로 두면 하위 디렉토리까지"
   ]
  },
  {
   "cell_type": "code",
   "execution_count": null,
   "id": "2aa10c4c-6970-4fdb-9336-9fcdeb85fa19",
   "metadata": {
    "tags": []
   },
   "outputs": [],
   "source": [
    "print(\"recursive = True 일 때\")\n",
    "glob_dir1 = glob('C://Users/cheer/DL', recursive = True)\n",
    "\n",
    "for i in glob_dir1:\n",
    "    print(i)\n",
    "    print(type(i))\n",
    "    print(glob_dir1)\n",
    "    print(type(glob_dir1))\n",
    "\n",
    "print()\n",
    "print(\"recursive = False 일 때\")\n",
    "\n",
    "glob_dir2 = glob('C://Users/cheer/DL', recursive = False)\n",
    "\n",
    "for i in glob_dir2:\n",
    "    print(i)\n",
    "    print(type(i))\n",
    "    print(glob_dir2)\n",
    "    print(type(glob_dir2))"
   ]
  },
  {
   "cell_type": "markdown",
   "id": "00895767-263d-44f6-8929-24c93b3c7fcd",
   "metadata": {
    "jp-MarkdownHeadingCollapsed": true,
    "tags": []
   },
   "source": [
    "## imshow를 이용한 이미지 출력"
   ]
  },
  {
   "cell_type": "code",
   "execution_count": null,
   "id": "2993722a-0aac-4a6d-9822-6e2292473475",
   "metadata": {
    "tags": []
   },
   "outputs": [],
   "source": [
    "plt.imshow(cropped_img)"
   ]
  },
  {
   "cell_type": "markdown",
   "id": "b81f80b0-e9fd-44cc-b37e-489c0893bec4",
   "metadata": {
    "tags": []
   },
   "source": [
    "# Image to csv by numpy"
   ]
  },
  {
   "cell_type": "code",
   "execution_count": null,
   "id": "9a0be686-cfed-4b04-98d4-624bb6fb1de8",
   "metadata": {
    "tags": []
   },
   "outputs": [],
   "source": [
    "timage = cv2.imread('C://Users/cheer/DL/JAuto_Project/Dataset/good_up/1_153911.png')\n",
    "\n",
    "print(type(timage))\n",
    "print(timage)\n",
    "\n",
    "print(\"Size info:\", timage.shape)\n",
    "print(\"height:\", timage.shape[0])\n",
    "print(\"info type:\", type(timage.shape[0]))\n",
    "\n"
   ]
  },
  {
   "cell_type": "markdown",
   "id": "f218ddee-a802-481a-be91-e17faec8faab",
   "metadata": {
    "jp-MarkdownHeadingCollapsed": true,
    "tags": []
   },
   "source": [
    "### Test code"
   ]
  },
  {
   "cell_type": "code",
   "execution_count": null,
   "id": "5d3493b2-c4b1-44ff-9518-40f7c13d4c05",
   "metadata": {
    "tags": []
   },
   "outputs": [],
   "source": [
    "import numpy as np  # Numpy 불러오기\n",
    "\n",
    "# 아래 경로의 이미지 파일 하나 불러오기\n",
    "im = Image.open('C://Users/cheer/DL/Jauto_project/Dataset/notgood_up/1_164534.png')\n",
    "\n",
    "print(type(im)) # 불러온 이미지 파일의 type 확인\n",
    "print()\n",
    "\n",
    "# pixels에 리스트 형식으로 이미지 데이터 저장\n",
    "# im.getdata()의 타입 확인 \n",
    "pixels = list(im.getdata())\n",
    "print(f\"im의 데이터 타입은: {type(im)}\")\n",
    "print(f\"im.getdata의 타입은: {type(im.getdata())}\")\n",
    "print(f\"im.getdata의 길이: {len(pixels)}\")\n",
    "print(f\"pixels: {pixels}\")\n",
    "\n",
    "pixel_list = []\n",
    "\n",
    "imdata_array = np.array(pixels, dtype=np.int64)\n",
    "print(f\"imdata_array의 타입은: {type(imdata_array)}\")\n",
    "print(f\"imdata_array의 각 feature 타입은: {type(imdata_array[0])}\")\n",
    "\n",
    "np.savetxt(\"pixels_data.csv\", imdata_array, delimiter = ', ', newline = \" \", fmt = '%i')\n",
    "# 저장하는 매서드(\"저장할 이름\", 저장할 데이이터, X <- 1D or 2D, delimiter 구분자, newline 개행, fmt "
   ]
  },
  {
   "cell_type": "markdown",
   "id": "82ef3a56-6758-47ab-8a58-6336b0f9964e",
   "metadata": {
    "jp-MarkdownHeadingCollapsed": true,
    "tags": []
   },
   "source": [
    "### Application"
   ]
  },
  {
   "cell_type": "code",
   "execution_count": null,
   "id": "471d5551-fd54-4b65-8648-c10836791c1c",
   "metadata": {},
   "outputs": [],
   "source": []
  },
  {
   "cell_type": "code",
   "execution_count": null,
   "id": "ac05758a-433b-42c3-9714-d20e0debf290",
   "metadata": {
    "tags": []
   },
   "outputs": [],
   "source": [
    "# 이미지 파일의 이름을 Key로, 픽셀 리스트를 Value로 입력\n",
    "\n",
    "def images_to_dict(folder):\n",
    "    # 이미지 목록 불러오기\n",
    "    image_path = 'C://Users/cheer/DL/Jauto_Project/Dataset'\n",
    "    image_list = glob(os.path.join(image_path,f'{folder}/*.png'))\n",
    "    \n",
    "    # 빈 딕셔너리 생성\n",
    "    image_dict = {}\n",
    "    \n",
    "    # 리스트의 이미지 값들, 픽셀값들 대응해서 딕셔너리에 추가\n",
    "    for image_file in image_list:\n",
    "        image_name = os.path.basename(image_file)\n",
    "        image = Image.open(image_file)\n",
    "        pixels = list(image.getdata())\n",
    "        image_dict[image_name] = pixels\n",
    "        \n",
    "    return image_dict"
   ]
  },
  {
   "cell_type": "code",
   "execution_count": null,
   "id": "7a76b720-3d7b-41ee-93cf-512bb0d9ca93",
   "metadata": {
    "tags": []
   },
   "outputs": [],
   "source": [
    "result = images_to_dict('good_up')\n",
    "\n",
    "count = 0\n",
    "while count <= 3:\n",
    "    for image_name, pixels in result.items():\n",
    "        print(f\"Image Name: {image_name}\")\n",
    "        print(f\"Pixel Data: {pixels}\")\n",
    "        print(\"========================\")\n",
    "        count += 1"
   ]
  },
  {
   "cell_type": "code",
   "execution_count": 31,
   "id": "cca29d1c-13c8-4ba8-9973-3a9fce7c82c5",
   "metadata": {
    "tags": []
   },
   "outputs": [],
   "source": [
    "# Dictionary to CSV\n",
    "\n",
    "def dict_to_csv(dictionary, csv_path):\n",
    "    df = pd.DataFrame.from_dict(dictionary, orient='index')\n",
    "    df.index.name = 'image_name'\n",
    "    df.rename(columns={0: 'pixel_data'}, inplace=True)  # Rename the column\n",
    "    \n",
    "    df.to_csv(csv_path)"
   ]
  },
  {
   "cell_type": "code",
   "execution_count": 32,
   "id": "a1bcc79d-d875-4c68-a893-433e75377781",
   "metadata": {
    "tags": []
   },
   "outputs": [],
   "source": [
    "result_dict = images_to_dict('good_up')\n",
    "\n",
    "dict_to_csv(result_dict, 'good_up.csv')"
   ]
  },
  {
   "cell_type": "code",
   "execution_count": 33,
   "id": "a45e0f64-8dec-4a13-ab15-06feeaf1c1b0",
   "metadata": {
    "tags": []
   },
   "outputs": [],
   "source": [
    "result_good_under = images_to_dict('good_under')\n",
    "dict_to_csv(result_good_under,'good_under.csv')\n",
    "\n",
    "result_notgood_up = images_to_dict('notgood_up')\n",
    "dict_to_csv(result_notgood_up, 'notgood_up.csv')\n",
    "\n",
    "result_notgood_under = images_to_dict('notgood_under')\n",
    "dict_to_csv(result_notgood_under, 'notgood_under.csv')"
   ]
  },
  {
   "cell_type": "code",
   "execution_count": 34,
   "id": "02b14e50-b6fe-479d-b293-9393d82aeb38",
   "metadata": {
    "tags": []
   },
   "outputs": [
    {
     "data": {
      "text/html": [
       "<div>\n",
       "<style scoped>\n",
       "    .dataframe tbody tr th:only-of-type {\n",
       "        vertical-align: middle;\n",
       "    }\n",
       "\n",
       "    .dataframe tbody tr th {\n",
       "        vertical-align: top;\n",
       "    }\n",
       "\n",
       "    .dataframe thead th {\n",
       "        text-align: right;\n",
       "    }\n",
       "</style>\n",
       "<table border=\"1\" class=\"dataframe\">\n",
       "  <thead>\n",
       "    <tr style=\"text-align: right;\">\n",
       "      <th></th>\n",
       "      <th>image_name</th>\n",
       "      <th>pixel_data</th>\n",
       "      <th>1</th>\n",
       "      <th>2</th>\n",
       "      <th>3</th>\n",
       "      <th>4</th>\n",
       "      <th>5</th>\n",
       "      <th>6</th>\n",
       "      <th>7</th>\n",
       "      <th>8</th>\n",
       "      <th>...</th>\n",
       "      <th>202490</th>\n",
       "      <th>202491</th>\n",
       "      <th>202492</th>\n",
       "      <th>202493</th>\n",
       "      <th>202494</th>\n",
       "      <th>202495</th>\n",
       "      <th>202496</th>\n",
       "      <th>202497</th>\n",
       "      <th>202498</th>\n",
       "      <th>202499</th>\n",
       "    </tr>\n",
       "  </thead>\n",
       "  <tbody>\n",
       "    <tr>\n",
       "      <th>0</th>\n",
       "      <td>1_153911.png</td>\n",
       "      <td>37</td>\n",
       "      <td>36</td>\n",
       "      <td>34</td>\n",
       "      <td>35</td>\n",
       "      <td>34</td>\n",
       "      <td>32</td>\n",
       "      <td>33</td>\n",
       "      <td>33</td>\n",
       "      <td>33</td>\n",
       "      <td>...</td>\n",
       "      <td>1</td>\n",
       "      <td>1</td>\n",
       "      <td>2</td>\n",
       "      <td>2</td>\n",
       "      <td>2</td>\n",
       "      <td>2</td>\n",
       "      <td>2</td>\n",
       "      <td>2</td>\n",
       "      <td>1</td>\n",
       "      <td>2</td>\n",
       "    </tr>\n",
       "    <tr>\n",
       "      <th>1</th>\n",
       "      <td>1_153916.png</td>\n",
       "      <td>48</td>\n",
       "      <td>51</td>\n",
       "      <td>48</td>\n",
       "      <td>50</td>\n",
       "      <td>48</td>\n",
       "      <td>47</td>\n",
       "      <td>45</td>\n",
       "      <td>44</td>\n",
       "      <td>48</td>\n",
       "      <td>...</td>\n",
       "      <td>2</td>\n",
       "      <td>2</td>\n",
       "      <td>2</td>\n",
       "      <td>2</td>\n",
       "      <td>1</td>\n",
       "      <td>2</td>\n",
       "      <td>2</td>\n",
       "      <td>3</td>\n",
       "      <td>2</td>\n",
       "      <td>3</td>\n",
       "    </tr>\n",
       "    <tr>\n",
       "      <th>2</th>\n",
       "      <td>1_153919.png</td>\n",
       "      <td>42</td>\n",
       "      <td>39</td>\n",
       "      <td>37</td>\n",
       "      <td>40</td>\n",
       "      <td>38</td>\n",
       "      <td>38</td>\n",
       "      <td>37</td>\n",
       "      <td>36</td>\n",
       "      <td>36</td>\n",
       "      <td>...</td>\n",
       "      <td>3</td>\n",
       "      <td>3</td>\n",
       "      <td>3</td>\n",
       "      <td>3</td>\n",
       "      <td>3</td>\n",
       "      <td>3</td>\n",
       "      <td>3</td>\n",
       "      <td>4</td>\n",
       "      <td>3</td>\n",
       "      <td>4</td>\n",
       "    </tr>\n",
       "    <tr>\n",
       "      <th>3</th>\n",
       "      <td>1_153922.png</td>\n",
       "      <td>37</td>\n",
       "      <td>39</td>\n",
       "      <td>39</td>\n",
       "      <td>37</td>\n",
       "      <td>40</td>\n",
       "      <td>36</td>\n",
       "      <td>36</td>\n",
       "      <td>34</td>\n",
       "      <td>38</td>\n",
       "      <td>...</td>\n",
       "      <td>3</td>\n",
       "      <td>2</td>\n",
       "      <td>3</td>\n",
       "      <td>2</td>\n",
       "      <td>2</td>\n",
       "      <td>2</td>\n",
       "      <td>3</td>\n",
       "      <td>2</td>\n",
       "      <td>2</td>\n",
       "      <td>3</td>\n",
       "    </tr>\n",
       "    <tr>\n",
       "      <th>4</th>\n",
       "      <td>1_153925.png</td>\n",
       "      <td>35</td>\n",
       "      <td>34</td>\n",
       "      <td>35</td>\n",
       "      <td>33</td>\n",
       "      <td>32</td>\n",
       "      <td>32</td>\n",
       "      <td>32</td>\n",
       "      <td>27</td>\n",
       "      <td>29</td>\n",
       "      <td>...</td>\n",
       "      <td>43</td>\n",
       "      <td>53</td>\n",
       "      <td>64</td>\n",
       "      <td>74</td>\n",
       "      <td>98</td>\n",
       "      <td>147</td>\n",
       "      <td>203</td>\n",
       "      <td>253</td>\n",
       "      <td>255</td>\n",
       "      <td>255</td>\n",
       "    </tr>\n",
       "    <tr>\n",
       "      <th>5</th>\n",
       "      <td>1_153928.png</td>\n",
       "      <td>27</td>\n",
       "      <td>28</td>\n",
       "      <td>25</td>\n",
       "      <td>26</td>\n",
       "      <td>25</td>\n",
       "      <td>26</td>\n",
       "      <td>24</td>\n",
       "      <td>24</td>\n",
       "      <td>22</td>\n",
       "      <td>...</td>\n",
       "      <td>27</td>\n",
       "      <td>29</td>\n",
       "      <td>31</td>\n",
       "      <td>41</td>\n",
       "      <td>49</td>\n",
       "      <td>57</td>\n",
       "      <td>56</td>\n",
       "      <td>73</td>\n",
       "      <td>93</td>\n",
       "      <td>100</td>\n",
       "    </tr>\n",
       "    <tr>\n",
       "      <th>6</th>\n",
       "      <td>1_153931.png</td>\n",
       "      <td>34</td>\n",
       "      <td>32</td>\n",
       "      <td>32</td>\n",
       "      <td>30</td>\n",
       "      <td>28</td>\n",
       "      <td>27</td>\n",
       "      <td>24</td>\n",
       "      <td>26</td>\n",
       "      <td>24</td>\n",
       "      <td>...</td>\n",
       "      <td>255</td>\n",
       "      <td>255</td>\n",
       "      <td>255</td>\n",
       "      <td>255</td>\n",
       "      <td>255</td>\n",
       "      <td>255</td>\n",
       "      <td>247</td>\n",
       "      <td>243</td>\n",
       "      <td>249</td>\n",
       "      <td>241</td>\n",
       "    </tr>\n",
       "    <tr>\n",
       "      <th>7</th>\n",
       "      <td>1_153934.png</td>\n",
       "      <td>8</td>\n",
       "      <td>7</td>\n",
       "      <td>8</td>\n",
       "      <td>8</td>\n",
       "      <td>7</td>\n",
       "      <td>7</td>\n",
       "      <td>8</td>\n",
       "      <td>7</td>\n",
       "      <td>7</td>\n",
       "      <td>...</td>\n",
       "      <td>169</td>\n",
       "      <td>172</td>\n",
       "      <td>175</td>\n",
       "      <td>174</td>\n",
       "      <td>177</td>\n",
       "      <td>174</td>\n",
       "      <td>174</td>\n",
       "      <td>178</td>\n",
       "      <td>175</td>\n",
       "      <td>175</td>\n",
       "    </tr>\n",
       "    <tr>\n",
       "      <th>8</th>\n",
       "      <td>1_154058.png</td>\n",
       "      <td>40</td>\n",
       "      <td>39</td>\n",
       "      <td>40</td>\n",
       "      <td>37</td>\n",
       "      <td>40</td>\n",
       "      <td>39</td>\n",
       "      <td>35</td>\n",
       "      <td>37</td>\n",
       "      <td>35</td>\n",
       "      <td>...</td>\n",
       "      <td>3</td>\n",
       "      <td>1</td>\n",
       "      <td>2</td>\n",
       "      <td>1</td>\n",
       "      <td>2</td>\n",
       "      <td>1</td>\n",
       "      <td>2</td>\n",
       "      <td>1</td>\n",
       "      <td>2</td>\n",
       "      <td>1</td>\n",
       "    </tr>\n",
       "    <tr>\n",
       "      <th>9</th>\n",
       "      <td>1_154103.png</td>\n",
       "      <td>45</td>\n",
       "      <td>47</td>\n",
       "      <td>46</td>\n",
       "      <td>41</td>\n",
       "      <td>44</td>\n",
       "      <td>43</td>\n",
       "      <td>39</td>\n",
       "      <td>42</td>\n",
       "      <td>43</td>\n",
       "      <td>...</td>\n",
       "      <td>3</td>\n",
       "      <td>3</td>\n",
       "      <td>3</td>\n",
       "      <td>3</td>\n",
       "      <td>3</td>\n",
       "      <td>3</td>\n",
       "      <td>3</td>\n",
       "      <td>3</td>\n",
       "      <td>2</td>\n",
       "      <td>3</td>\n",
       "    </tr>\n",
       "  </tbody>\n",
       "</table>\n",
       "<p>10 rows × 202501 columns</p>\n",
       "</div>"
      ],
      "text/plain": [
       "     image_name  pixel_data   1   2   3   4   5   6   7   8  ...  202490  \\\n",
       "0  1_153911.png          37  36  34  35  34  32  33  33  33  ...       1   \n",
       "1  1_153916.png          48  51  48  50  48  47  45  44  48  ...       2   \n",
       "2  1_153919.png          42  39  37  40  38  38  37  36  36  ...       3   \n",
       "3  1_153922.png          37  39  39  37  40  36  36  34  38  ...       3   \n",
       "4  1_153925.png          35  34  35  33  32  32  32  27  29  ...      43   \n",
       "5  1_153928.png          27  28  25  26  25  26  24  24  22  ...      27   \n",
       "6  1_153931.png          34  32  32  30  28  27  24  26  24  ...     255   \n",
       "7  1_153934.png           8   7   8   8   7   7   8   7   7  ...     169   \n",
       "8  1_154058.png          40  39  40  37  40  39  35  37  35  ...       3   \n",
       "9  1_154103.png          45  47  46  41  44  43  39  42  43  ...       3   \n",
       "\n",
       "   202491  202492  202493  202494  202495  202496  202497  202498  202499  \n",
       "0       1       2       2       2       2       2       2       1       2  \n",
       "1       2       2       2       1       2       2       3       2       3  \n",
       "2       3       3       3       3       3       3       4       3       4  \n",
       "3       2       3       2       2       2       3       2       2       3  \n",
       "4      53      64      74      98     147     203     253     255     255  \n",
       "5      29      31      41      49      57      56      73      93     100  \n",
       "6     255     255     255     255     255     247     243     249     241  \n",
       "7     172     175     174     177     174     174     178     175     175  \n",
       "8       1       2       1       2       1       2       1       2       1  \n",
       "9       3       3       3       3       3       3       3       2       3  \n",
       "\n",
       "[10 rows x 202501 columns]"
      ]
     },
     "execution_count": 34,
     "metadata": {},
     "output_type": "execute_result"
    }
   ],
   "source": [
    "# 만들어진 CSV 데이터프레임을 출력\n",
    "image_csv = pd.read_csv('C://Users/cheer/DL/Jauto_Project/good_up.csv')\n",
    "\n",
    "image_csv.head(10)"
   ]
  },
  {
   "cell_type": "markdown",
   "id": "47484f00-cdc5-4a15-86b9-140833a4fd76",
   "metadata": {},
   "source": [
    "# ResNet Model 가져오기"
   ]
  },
  {
   "cell_type": "code",
   "execution_count": 39,
   "id": "6ad89ede-5b0f-4db0-a041-7da55351abd6",
   "metadata": {
    "tags": []
   },
   "outputs": [],
   "source": [
    "import tensorflow.keras as keras\n",
    "\n",
    "# 모델 불러오기 \n",
    "model = keras.applications.resnet50.ResNet50(weights = None)"
   ]
  },
  {
   "cell_type": "code",
   "execution_count": null,
   "id": "ec15028c-e7e9-4c50-bd52-4f8e989f8aeb",
   "metadata": {},
   "outputs": [],
   "source": []
  }
 ],
 "metadata": {
  "kernelspec": {
   "display_name": "sufficient_tools",
   "language": "python",
   "name": "tf"
  },
  "language_info": {
   "codemirror_mode": {
    "name": "ipython",
    "version": 3
   },
   "file_extension": ".py",
   "mimetype": "text/x-python",
   "name": "python",
   "nbconvert_exporter": "python",
   "pygments_lexer": "ipython3",
   "version": "3.10.12"
  }
 },
 "nbformat": 4,
 "nbformat_minor": 5
}
