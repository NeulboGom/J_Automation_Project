{
  "cells": [
    {
      "cell_type": "markdown",
      "metadata": {
        "id": "view-in-github",
        "colab_type": "text"
      },
      "source": [
        "<a href=\"https://colab.research.google.com/github/NeulboGom/J_Automation_Project/blob/JH/Anomaly_Classification_no_csv.ipynb\" target=\"_parent\"><img src=\"https://colab.research.google.com/assets/colab-badge.svg\" alt=\"Open In Colab\"/></a>"
      ]
    },
    {
      "cell_type": "code",
      "execution_count": null,
      "id": "992feb9a-4329-4c53-ac97-e742ad4a7edd",
      "metadata": {
        "tags": [],
        "colab": {
          "base_uri": "https://localhost:8080/",
          "height": 36
        },
        "id": "992feb9a-4329-4c53-ac97-e742ad4a7edd",
        "outputId": "a0a7c2a0-854f-4bfe-fb8c-c05f3ef46828"
      },
      "outputs": [
        {
          "output_type": "execute_result",
          "data": {
            "text/plain": [
              "'/content'"
            ],
            "application/vnd.google.colaboratory.intrinsic+json": {
              "type": "string"
            }
          },
          "metadata": {},
          "execution_count": 1
        }
      ],
      "source": [
        "import os\n",
        "\n",
        "os.getcwd()"
      ]
    },
    {
      "cell_type": "code",
      "source": [
        "from google.colab import drive\n",
        "drive.mount('/content/drive')"
      ],
      "metadata": {
        "colab": {
          "base_uri": "https://localhost:8080/"
        },
        "id": "CbBVi2LoVpJ1",
        "outputId": "11f0bee6-4f7e-4eb8-9739-9921a7598be9"
      },
      "id": "CbBVi2LoVpJ1",
      "execution_count": 1,
      "outputs": [
        {
          "output_type": "stream",
          "name": "stdout",
          "text": [
            "Mounted at /content/drive\n"
          ]
        }
      ]
    },
    {
      "cell_type": "code",
      "execution_count": 2,
      "id": "d33f4c25-14cb-47a9-a9ea-b1b346b199dc",
      "metadata": {
        "id": "d33f4c25-14cb-47a9-a9ea-b1b346b199dc"
      },
      "outputs": [],
      "source": [
        "import os\n",
        "from glob import glob\n",
        "import cv2\n",
        "from tqdm import tqdm\n",
        "from PIL import Image\n",
        "import matplotlib.pyplot as plt\n",
        "import matplotlib.image\n",
        "import pandas as pd\n",
        "import csv\n",
        "import numpy as np"
      ]
    },
    {
      "cell_type": "markdown",
      "id": "78eeadf9-4ad9-4c3d-8d62-a6af9c72c9b5",
      "metadata": {
        "tags": [],
        "id": "78eeadf9-4ad9-4c3d-8d62-a6af9c72c9b5"
      },
      "source": [
        "# Image Crop"
      ]
    },
    {
      "cell_type": "code",
      "execution_count": 12,
      "id": "5dea66b2-5648-4c2e-9a7c-20786e39bd1f",
      "metadata": {
        "tags": [],
        "colab": {
          "base_uri": "https://localhost:8080/"
        },
        "id": "5dea66b2-5648-4c2e-9a7c-20786e39bd1f",
        "outputId": "ad363114-54c6-4735-9e91-aa0cfcf2424e"
      },
      "outputs": [
        {
          "output_type": "stream",
          "name": "stderr",
          "text": [
            "0it [00:00, ?it/s]\n"
          ]
        }
      ],
      "source": [
        "# (0, 0, 700, 700) -> (100, 100, 550, 550)\n",
        "# 이미지 crop 범위를 줄여서 이미지 용량을 줄이는 효과 기대\n",
        "\n",
        "root = './Dataset'\n",
        "img_list = glob(os.path.join(root,'**/*.png'),recursive=True)\n",
        "# glob 경로를 설정하여 리스트로 반환\n",
        "for img in tqdm(img_list):\n",
        "    img_data = Image.open(img)\n",
        "    area = (100,100,550,550)\n",
        "    cropped_img = img_data.crop(area)\n",
        "    cropped_img.save(img)"
      ]
    },
    {
      "cell_type": "markdown",
      "id": "a2f257a8-70fe-4d07-a780-7e98d0eb6ded",
      "metadata": {
        "jp-MarkdownHeadingCollapsed": true,
        "tags": [],
        "id": "a2f257a8-70fe-4d07-a780-7e98d0eb6ded"
      },
      "source": [
        "### glob는 경로를 설정하고, 그 안에 있는 파일들을 리스트로 반환한다\n",
        "### recursive를 False로 두면 그냥 그 경로만, True로 두면 하위 디렉토리까지"
      ]
    },
    {
      "cell_type": "code",
      "execution_count": 14,
      "id": "2aa10c4c-6970-4fdb-9336-9fcdeb85fa19",
      "metadata": {
        "tags": [],
        "colab": {
          "base_uri": "https://localhost:8080/"
        },
        "id": "2aa10c4c-6970-4fdb-9336-9fcdeb85fa19",
        "outputId": "60cf445c-1976-4d9f-df03-1c485d9b4ca7"
      },
      "outputs": [
        {
          "output_type": "stream",
          "name": "stdout",
          "text": [
            "recursive = True 일 때\n",
            "\n",
            "recursive = False 일 때\n"
          ]
        }
      ],
      "source": [
        "print(\"recursive = True 일 때\")\n",
        "glob_dir1 = glob('/content/Dataset', recursive = True)\n",
        "\n",
        "for i in glob_dir1:\n",
        "    print(i)\n",
        "    print(type(i))\n",
        "    print(glob_dir1)\n",
        "    print(type(glob_dir1))\n",
        "\n",
        "print()\n",
        "print(\"recursive = False 일 때\")\n",
        "\n",
        "glob_dir2 = glob('/content/Dataset', recursive = False)\n",
        "\n",
        "for i in glob_dir2:\n",
        "    print(i)\n",
        "    print(type(i))\n",
        "    print(glob_dir2)\n",
        "    print(type(glob_dir2))"
      ]
    },
    {
      "cell_type": "markdown",
      "id": "00895767-263d-44f6-8929-24c93b3c7fcd",
      "metadata": {
        "jp-MarkdownHeadingCollapsed": true,
        "tags": [],
        "id": "00895767-263d-44f6-8929-24c93b3c7fcd"
      },
      "source": [
        "## imshow를 이용한 이미지 출력"
      ]
    },
    {
      "cell_type": "code",
      "execution_count": 15,
      "id": "2993722a-0aac-4a6d-9822-6e2292473475",
      "metadata": {
        "tags": [],
        "id": "2993722a-0aac-4a6d-9822-6e2292473475",
        "colab": {
          "base_uri": "https://localhost:8080/",
          "height": 176
        },
        "outputId": "3d3e491e-5107-41ff-e8b5-dd0d33bbf656"
      },
      "outputs": [
        {
          "output_type": "error",
          "ename": "NameError",
          "evalue": "ignored",
          "traceback": [
            "\u001b[0;31m---------------------------------------------------------------------------\u001b[0m",
            "\u001b[0;31mNameError\u001b[0m                                 Traceback (most recent call last)",
            "\u001b[0;32m<ipython-input-15-d45b77eae148>\u001b[0m in \u001b[0;36m<cell line: 1>\u001b[0;34m()\u001b[0m\n\u001b[0;32m----> 1\u001b[0;31m \u001b[0mplt\u001b[0m\u001b[0;34m.\u001b[0m\u001b[0mimshow\u001b[0m\u001b[0;34m(\u001b[0m\u001b[0mcropped_img\u001b[0m\u001b[0;34m)\u001b[0m\u001b[0;34m\u001b[0m\u001b[0;34m\u001b[0m\u001b[0m\n\u001b[0m",
            "\u001b[0;31mNameError\u001b[0m: name 'cropped_img' is not defined"
          ]
        }
      ],
      "source": [
        "plt.imshow(cropped_img)"
      ]
    },
    {
      "cell_type": "markdown",
      "id": "b81f80b0-e9fd-44cc-b37e-489c0893bec4",
      "metadata": {
        "tags": [],
        "id": "b81f80b0-e9fd-44cc-b37e-489c0893bec4"
      },
      "source": [
        "# Image to csv by numpy"
      ]
    },
    {
      "cell_type": "code",
      "execution_count": null,
      "id": "9a0be686-cfed-4b04-98d4-624bb6fb1de8",
      "metadata": {
        "tags": [],
        "id": "9a0be686-cfed-4b04-98d4-624bb6fb1de8"
      },
      "outputs": [],
      "source": [
        "timage = cv2.imread('C://Users/cheer/DL/JAuto_Project/Dataset/good_up/1_153911.png')\n",
        "\n",
        "print(type(timage))\n",
        "print(timage)\n",
        "\n",
        "print(\"Size info:\", timage.shape)\n",
        "print(\"height:\", timage.shape[0])\n",
        "print(\"info type:\", type(timage.shape[0]))\n",
        "\n"
      ]
    },
    {
      "cell_type": "markdown",
      "id": "f218ddee-a802-481a-be91-e17faec8faab",
      "metadata": {
        "tags": [],
        "id": "f218ddee-a802-481a-be91-e17faec8faab"
      },
      "source": [
        "### Test code"
      ]
    },
    {
      "cell_type": "code",
      "execution_count": 3,
      "id": "5d3493b2-c4b1-44ff-9518-40f7c13d4c05",
      "metadata": {
        "collapsed": true,
        "jupyter": {
          "outputs_hidden": true
        },
        "tags": [],
        "id": "5d3493b2-c4b1-44ff-9518-40f7c13d4c05"
      },
      "outputs": [],
      "source": [
        "# 경로 안에 있는 모든 이미지를 데이터화하는 함수\n",
        "\n",
        "def preprocess_image(image_path, target_size=(450, 450)):\n",
        "    # 이미지 파일 경로 불러오기\n",
        "    image_list = glob(os.path.join(image_path, '*.png'))\n",
        "\n",
        "    # 빈 numpy 배열 생성\n",
        "    img_array = np.empty((len(image_list), *target_size, 3), dtype=np.uint8)\n",
        "\n",
        "    for i, img in enumerate(image_list):\n",
        "        image = Image.open(img)\n",
        "        image = image.resize(target_size)\n",
        "        img_array[i] = np.array(image)[:, :, np.newaxis]\n",
        "\n",
        "    return img_array\n"
      ]
    },
    {
      "cell_type": "code",
      "source": [
        "# 이미지 데이터화\n",
        "processed_good_up = preprocess_image('/content/drive/MyDrive/Project/good_up')\n",
        "processed_good_under = preprocess_image('/content/drive/MyDrive/Project/good_under')\n",
        "\n",
        "# 처리된 이미지의 차원 출력\n",
        "print(processed_good_up.shape)\n",
        "print(processed_good_under.shape)"
      ],
      "metadata": {
        "colab": {
          "base_uri": "https://localhost:8080/"
        },
        "id": "7P_22qD-TQS4",
        "outputId": "c31c55e1-d81f-475e-b803-b4fda81335db"
      },
      "id": "7P_22qD-TQS4",
      "execution_count": 4,
      "outputs": [
        {
          "output_type": "stream",
          "name": "stdout",
          "text": [
            "(74, 450, 450, 3)\n",
            "(49, 450, 450, 3)\n"
          ]
        }
      ]
    },
    {
      "cell_type": "markdown",
      "id": "82ef3a56-6758-47ab-8a58-6336b0f9964e",
      "metadata": {
        "tags": [],
        "id": "82ef3a56-6758-47ab-8a58-6336b0f9964e"
      },
      "source": [
        "### Application"
      ]
    },
    {
      "cell_type": "code",
      "source": [],
      "metadata": {
        "id": "-E8JD3IztLlC"
      },
      "id": "-E8JD3IztLlC",
      "execution_count": null,
      "outputs": []
    },
    {
      "cell_type": "markdown",
      "id": "9bbf0ccc-0f12-4a98-b66d-d9671b30ac2e",
      "metadata": {
        "jp-MarkdownHeadingCollapsed": true,
        "tags": [],
        "id": "9bbf0ccc-0f12-4a98-b66d-d9671b30ac2e"
      },
      "source": [
        "# 폐기"
      ]
    },
    {
      "cell_type": "markdown",
      "id": "8c84014c-09ff-4a4d-b19c-370f7085b43c",
      "metadata": {
        "id": "8c84014c-09ff-4a4d-b19c-370f7085b43c"
      },
      "source": [
        "# Model Application"
      ]
    },
    {
      "cell_type": "markdown",
      "id": "47484f00-cdc5-4a15-86b9-140833a4fd76",
      "metadata": {
        "id": "47484f00-cdc5-4a15-86b9-140833a4fd76"
      },
      "source": [
        "## ResNet Model 가져오기"
      ]
    },
    {
      "cell_type": "code",
      "execution_count": 5,
      "id": "6ad89ede-5b0f-4db0-a041-7da55351abd6",
      "metadata": {
        "tags": [],
        "id": "6ad89ede-5b0f-4db0-a041-7da55351abd6",
        "outputId": "bb5401b6-b7ab-4a45-bd4a-46cfe655eedb",
        "colab": {
          "base_uri": "https://localhost:8080/",
          "height": 92
        }
      },
      "outputs": [
        {
          "output_type": "execute_result",
          "data": {
            "text/plain": [
              "\"\\ninclude_top: 네트워크에 FC-layer를 넣을지 말지 Boolean (커스텀 할지 말지 여부 결정)\\nweights: 구조만 가져오고 싶으면 None, 아니면 default가 'imagenet'이기 때문에 속성 넣지 않기\\ninput_tensor: 첫번째 Conv2D의 input_shape라 생각하면 됨 (선언 방법: keras.layers.Input(shape=(w, h, c)))\\npooling: include_top이 False일 때 None, avg, max 중 선택\\nclasses: include_top이 True이고 weights가 None일 때 커스텀으로 구별할 클래스(레이블)의 수\\n\""
            ],
            "application/vnd.google.colaboratory.intrinsic+json": {
              "type": "string"
            }
          },
          "metadata": {},
          "execution_count": 5
        }
      ],
      "source": [
        "import tensorflow as tf\n",
        "import tensorflow.keras as keras\n",
        "\n",
        "from keras import layers, Model, Input\n",
        "\n",
        "# 모델 불러오기\n",
        "model = keras.applications.resnet50.ResNet50(weights = None,\n",
        "                                             include_top = True,\n",
        "                                             input_tensor = Input(shape = (450, 450, 3)),\n",
        "                                             classes = 4)\n",
        "\n",
        "'''\n",
        "include_top: 네트워크에 FC-layer를 넣을지 말지 Boolean (커스텀 할지 말지 여부 결정)\n",
        "weights: 구조만 가져오고 싶으면 None, 아니면 default가 'imagenet'이기 때문에 속성 넣지 않기\n",
        "input_tensor: 첫번째 Conv2D의 input_shape라 생각하면 됨 (선언 방법: keras.layers.Input(shape=(w, h, c)))\n",
        "pooling: include_top이 False일 때 None, avg, max 중 선택\n",
        "classes: include_top이 True이고 weights가 None일 때 커스텀으로 구별할 클래스(레이블)의 수\n",
        "'''"
      ]
    },
    {
      "cell_type": "markdown",
      "id": "0756febe-3a01-4efb-b915-f26f4435dd41",
      "metadata": {
        "id": "0756febe-3a01-4efb-b915-f26f4435dd41"
      },
      "source": [
        "## Model Compiling"
      ]
    },
    {
      "cell_type": "code",
      "execution_count": 35,
      "id": "b50f2ec1-9a42-4f2f-9b43-436cdb25b91e",
      "metadata": {
        "tags": [],
        "id": "b50f2ec1-9a42-4f2f-9b43-436cdb25b91e"
      },
      "outputs": [],
      "source": [
        "from keras.optimizers import Adam\n",
        "\n",
        "model.compile(optimizer = Adam(learning_rate = 0.0005),\n",
        "              loss = 'sparse_categorical_crossentropy',\n",
        "              metrics = ['accuracy'],)"
      ]
    },
    {
      "cell_type": "markdown",
      "id": "d35b7b54-ffe9-4ed7-850e-fdc4ffa02c9f",
      "metadata": {
        "id": "d35b7b54-ffe9-4ed7-850e-fdc4ffa02c9f"
      },
      "source": [
        "## Train, Test data divide"
      ]
    },
    {
      "cell_type": "code",
      "execution_count": 7,
      "id": "00dfe40f-f678-4ea8-b78b-34caf1caaef2",
      "metadata": {
        "tags": [],
        "id": "00dfe40f-f678-4ea8-b78b-34caf1caaef2"
      },
      "outputs": [],
      "source": [
        "from sklearn.model_selection import train_test_split\n",
        "\n",
        "# 정상 up 이미지 로드\n",
        "X_normal_up = preprocess_image('/content/drive/MyDrive/Project/good_up')\n",
        "# 정상 under 이미지 로드\n",
        "X_normal_under = preprocess_image('/content/drive/MyDrive/Project/good_under')\n",
        "# 비정상 up 이미지 로드\n",
        "X_abnormal_up = preprocess_image('/content/drive/MyDrive/Project/notgood_up')\n",
        "# 비정상 under 이미지 로드\n",
        "X_abnormal_under = preprocess_image('/content/drive/MyDrive/Project/notgood_under')\n",
        "\n",
        "# 각 클래스에 대한 클래스 레이블 생성\n",
        "# \"정상 up\" 클래스: 0\n",
        "# \"정상 under\" 클래스: 1\n",
        "# \"비정상 up\" 클래스: 2\n",
        "# \"비정상 under\" 클래스: 3\n",
        "y_normal_up = np.zeros(len(X_normal_up))\n",
        "y_normal_under = np.ones(len(X_normal_under))\n",
        "y_abnormal_up = np.full(len(X_abnormal_up), 2)\n",
        "y_abnormal_under = np.full(len(X_abnormal_under), 3)\n",
        "\n",
        "# 각 클래스별 데이터를 하나로 합치기\n",
        "# X_up은 \"정상 up\"과 \"비정상 up\" 데이터를 하나로 합침\n",
        "X_up = np.concatenate((X_normal_up, X_abnormal_up), axis=0)\n",
        "# X_under -> \"정상 under\"과 \"비정상 under\" 데이터를 하나로 합침\n",
        "X_under = np.concatenate((X_normal_under, X_abnormal_under), axis=0)\n",
        "# y_up -> \"정상 up\"과 \"비정상 up\"을 하나로 합쳐서 y_up 안에는 0과 1 두 개의 레이블이 존재\n",
        "y_up = np.concatenate((y_normal_up, y_abnormal_up), axis=0)\n",
        "# y_under -> \"정상 under\"과 \"비정상 under\"을 하나로 합쳐서 y_under 안에는 0과 1 두 개의 레이블이 존재\n",
        "y_under = np.concatenate((y_normal_under, y_abnormal_under), axis=0)\n",
        "\n",
        "# 각 데이터를 Train, Validation, Test 데이터로 나누기\n",
        "X_train_up, X_temp_up, y_train_up, y_temp_up = train_test_split(X_up, y_up, test_size=0.2, random_state=42)\n",
        "X_val_up, X_test_up, y_val_up, y_test_up = train_test_split(X_temp_up, y_temp_up, test_size=0.5, random_state=42)\n",
        "\n",
        "X_train_under, X_temp_under, y_train_under, y_temp_under = train_test_split(X_under, y_under, test_size=0.2, random_state=42)\n",
        "X_val_under, X_test_under, y_val_under, y_test_under = train_test_split(X_temp_under, y_temp_under, test_size=0.5, random_state=42)\n"
      ]
    },
    {
      "cell_type": "code",
      "source": [
        "# 이미지 정규화\n",
        "X_train_up = X_train_up / 255\n",
        "X_val_up = X_val_up / 255\n",
        "X_test_up = X_test_up / 255\n",
        "\n",
        "X_train_under = X_train_under / 255\n",
        "X_val_under = X_val_under / 255\n",
        "X_test_under = X_test_under / 255"
      ],
      "metadata": {
        "id": "GlVGC3-_1G8t"
      },
      "id": "GlVGC3-_1G8t",
      "execution_count": 16,
      "outputs": []
    },
    {
      "cell_type": "markdown",
      "id": "2e3388ef-c637-44f2-afe7-3152f1df5cbc",
      "metadata": {
        "tags": [],
        "id": "2e3388ef-c637-44f2-afe7-3152f1df5cbc"
      },
      "source": [
        "## CSV Dataframe to Image Data"
      ]
    },
    {
      "cell_type": "markdown",
      "id": "a1edc537-6b38-46f6-9e1f-72248765ba5e",
      "metadata": {
        "id": "a1edc537-6b38-46f6-9e1f-72248765ba5e"
      },
      "source": [
        "## Model Train"
      ]
    },
    {
      "cell_type": "code",
      "execution_count": 23,
      "id": "68344068-81c3-4599-9fde-f2098a0084b7",
      "metadata": {
        "tags": [],
        "id": "68344068-81c3-4599-9fde-f2098a0084b7",
        "colab": {
          "base_uri": "https://localhost:8080/"
        },
        "outputId": "a4b9d06c-9a3e-4670-94ee-a73fb57d5756"
      },
      "outputs": [
        {
          "output_type": "stream",
          "name": "stdout",
          "text": [
            "Epoch 1/30\n",
            "33/33 [==============================] - 12s 181ms/step - loss: 0.2630 - accuracy: 0.9192 - val_loss: 33.4927 - val_accuracy: 0.5833\n",
            "Epoch 2/30\n",
            "33/33 [==============================] - 5s 149ms/step - loss: 0.1018 - accuracy: 0.9596 - val_loss: 0.8640 - val_accuracy: 0.6667\n",
            "Epoch 3/30\n",
            "33/33 [==============================] - 5s 153ms/step - loss: 0.1316 - accuracy: 0.9394 - val_loss: 3.0531 - val_accuracy: 0.4167\n",
            "Epoch 4/30\n",
            "33/33 [==============================] - 5s 150ms/step - loss: 0.0079 - accuracy: 1.0000 - val_loss: 1.5717 - val_accuracy: 0.4167\n",
            "Epoch 5/30\n",
            "33/33 [==============================] - 5s 152ms/step - loss: 0.0031 - accuracy: 1.0000 - val_loss: 0.2827 - val_accuracy: 0.9167\n",
            "Epoch 6/30\n",
            "33/33 [==============================] - 5s 155ms/step - loss: 0.0011 - accuracy: 1.0000 - val_loss: 0.0905 - val_accuracy: 1.0000\n",
            "Epoch 7/30\n",
            "33/33 [==============================] - 5s 158ms/step - loss: 9.3659e-04 - accuracy: 1.0000 - val_loss: 0.0259 - val_accuracy: 1.0000\n",
            "Epoch 8/30\n",
            "33/33 [==============================] - 5s 159ms/step - loss: 8.3335e-04 - accuracy: 1.0000 - val_loss: 0.0083 - val_accuracy: 1.0000\n",
            "Epoch 9/30\n",
            "33/33 [==============================] - 5s 158ms/step - loss: 8.1264e-04 - accuracy: 1.0000 - val_loss: 0.0059 - val_accuracy: 1.0000\n",
            "Epoch 10/30\n",
            "33/33 [==============================] - 5s 152ms/step - loss: 4.9444e-04 - accuracy: 1.0000 - val_loss: 0.0041 - val_accuracy: 1.0000\n",
            "Epoch 11/30\n",
            "33/33 [==============================] - 5s 153ms/step - loss: 6.5525e-04 - accuracy: 1.0000 - val_loss: 0.0014 - val_accuracy: 1.0000\n",
            "Epoch 12/30\n",
            "33/33 [==============================] - 5s 155ms/step - loss: 3.8204e-04 - accuracy: 1.0000 - val_loss: 7.2562e-04 - val_accuracy: 1.0000\n",
            "Epoch 13/30\n",
            "33/33 [==============================] - 5s 150ms/step - loss: 3.9138e-04 - accuracy: 1.0000 - val_loss: 5.7611e-04 - val_accuracy: 1.0000\n",
            "Epoch 14/30\n",
            "33/33 [==============================] - 5s 152ms/step - loss: 3.6120e-04 - accuracy: 1.0000 - val_loss: 3.1902e-04 - val_accuracy: 1.0000\n",
            "Epoch 15/30\n",
            "33/33 [==============================] - 5s 154ms/step - loss: 3.3720e-04 - accuracy: 1.0000 - val_loss: 2.1167e-04 - val_accuracy: 1.0000\n",
            "Epoch 16/30\n",
            "33/33 [==============================] - 5s 151ms/step - loss: 2.9363e-04 - accuracy: 1.0000 - val_loss: 1.3367e-04 - val_accuracy: 1.0000\n",
            "Epoch 17/30\n",
            "33/33 [==============================] - 5s 156ms/step - loss: 2.7341e-04 - accuracy: 1.0000 - val_loss: 1.1481e-04 - val_accuracy: 1.0000\n",
            "Epoch 18/30\n",
            "33/33 [==============================] - 5s 151ms/step - loss: 2.8793e-04 - accuracy: 1.0000 - val_loss: 1.1272e-04 - val_accuracy: 1.0000\n",
            "Epoch 19/30\n",
            "33/33 [==============================] - 5s 155ms/step - loss: 1.9431e-04 - accuracy: 1.0000 - val_loss: 1.0747e-04 - val_accuracy: 1.0000\n",
            "Epoch 20/30\n",
            "33/33 [==============================] - 5s 151ms/step - loss: 1.8293e-04 - accuracy: 1.0000 - val_loss: 8.9718e-05 - val_accuracy: 1.0000\n",
            "Epoch 21/30\n",
            "33/33 [==============================] - 5s 150ms/step - loss: 1.7946e-04 - accuracy: 1.0000 - val_loss: 9.1862e-05 - val_accuracy: 1.0000\n",
            "Epoch 22/30\n",
            "33/33 [==============================] - 5s 157ms/step - loss: 1.5213e-04 - accuracy: 1.0000 - val_loss: 8.1632e-05 - val_accuracy: 1.0000\n",
            "Epoch 23/30\n",
            "33/33 [==============================] - 5s 151ms/step - loss: 1.7433e-04 - accuracy: 1.0000 - val_loss: 7.3061e-05 - val_accuracy: 1.0000\n",
            "Epoch 24/30\n",
            "33/33 [==============================] - 5s 156ms/step - loss: 2.0389e-04 - accuracy: 1.0000 - val_loss: 5.4128e-05 - val_accuracy: 1.0000\n",
            "Epoch 25/30\n",
            "33/33 [==============================] - 5s 153ms/step - loss: 1.6009e-04 - accuracy: 1.0000 - val_loss: 5.3811e-05 - val_accuracy: 1.0000\n",
            "Epoch 26/30\n",
            "33/33 [==============================] - 5s 151ms/step - loss: 1.5692e-04 - accuracy: 1.0000 - val_loss: 4.5566e-05 - val_accuracy: 1.0000\n",
            "Epoch 27/30\n",
            "33/33 [==============================] - 5s 152ms/step - loss: 1.6266e-04 - accuracy: 1.0000 - val_loss: 4.2208e-05 - val_accuracy: 1.0000\n",
            "Epoch 28/30\n",
            "33/33 [==============================] - 5s 151ms/step - loss: 1.1229e-04 - accuracy: 1.0000 - val_loss: 4.1821e-05 - val_accuracy: 1.0000\n",
            "Epoch 29/30\n",
            "33/33 [==============================] - 5s 151ms/step - loss: 1.0103e-04 - accuracy: 1.0000 - val_loss: 4.3053e-05 - val_accuracy: 1.0000\n",
            "Epoch 30/30\n",
            "33/33 [==============================] - 5s 157ms/step - loss: 9.0333e-05 - accuracy: 1.0000 - val_loss: 3.5474e-05 - val_accuracy: 1.0000\n",
            "Epoch 1/30\n",
            "23/23 [==============================] - 8s 199ms/step - loss: 0.0429 - accuracy: 0.9853 - val_loss: 126.5116 - val_accuracy: 0.8750\n",
            "Epoch 2/30\n",
            "23/23 [==============================] - 3s 152ms/step - loss: 0.1639 - accuracy: 0.9559 - val_loss: 100.5198 - val_accuracy: 0.8750\n",
            "Epoch 3/30\n",
            "23/23 [==============================] - 3s 151ms/step - loss: 0.1241 - accuracy: 0.9559 - val_loss: 91.7018 - val_accuracy: 0.8750\n",
            "Epoch 4/30\n",
            "23/23 [==============================] - 3s 149ms/step - loss: 0.3528 - accuracy: 0.8529 - val_loss: 17.6575 - val_accuracy: 0.8750\n",
            "Epoch 5/30\n",
            "23/23 [==============================] - 3s 151ms/step - loss: 0.0140 - accuracy: 1.0000 - val_loss: 0.9125 - val_accuracy: 0.8750\n",
            "Epoch 6/30\n",
            "23/23 [==============================] - 4s 154ms/step - loss: 0.0060 - accuracy: 1.0000 - val_loss: 0.8644 - val_accuracy: 0.8750\n",
            "Epoch 7/30\n",
            "23/23 [==============================] - 3s 151ms/step - loss: 0.0021 - accuracy: 1.0000 - val_loss: 0.0108 - val_accuracy: 1.0000\n",
            "Epoch 8/30\n",
            "23/23 [==============================] - 3s 151ms/step - loss: 0.0017 - accuracy: 1.0000 - val_loss: 3.3452e-04 - val_accuracy: 1.0000\n",
            "Epoch 9/30\n",
            "23/23 [==============================] - 3s 150ms/step - loss: 9.9544e-04 - accuracy: 1.0000 - val_loss: 9.6105e-05 - val_accuracy: 1.0000\n",
            "Epoch 10/30\n",
            "23/23 [==============================] - 4s 154ms/step - loss: 7.5869e-04 - accuracy: 1.0000 - val_loss: 5.3335e-05 - val_accuracy: 1.0000\n",
            "Epoch 11/30\n",
            "23/23 [==============================] - 3s 152ms/step - loss: 9.5178e-04 - accuracy: 1.0000 - val_loss: 3.9661e-05 - val_accuracy: 1.0000\n",
            "Epoch 12/30\n",
            "23/23 [==============================] - 3s 150ms/step - loss: 0.0016 - accuracy: 1.0000 - val_loss: 9.0447e-06 - val_accuracy: 1.0000\n",
            "Epoch 13/30\n",
            "23/23 [==============================] - 3s 150ms/step - loss: 9.7665e-04 - accuracy: 1.0000 - val_loss: 1.0609e-05 - val_accuracy: 1.0000\n",
            "Epoch 14/30\n",
            "23/23 [==============================] - 4s 154ms/step - loss: 9.2627e-04 - accuracy: 1.0000 - val_loss: 9.9834e-06 - val_accuracy: 1.0000\n",
            "Epoch 15/30\n",
            "23/23 [==============================] - 3s 150ms/step - loss: 0.0012 - accuracy: 1.0000 - val_loss: 1.7657e-05 - val_accuracy: 1.0000\n",
            "Epoch 16/30\n",
            "23/23 [==============================] - 3s 151ms/step - loss: 7.1842e-04 - accuracy: 1.0000 - val_loss: 4.7958e-05 - val_accuracy: 1.0000\n",
            "Epoch 17/30\n",
            "23/23 [==============================] - 3s 150ms/step - loss: 6.6998e-04 - accuracy: 1.0000 - val_loss: 4.1076e-05 - val_accuracy: 1.0000\n",
            "Epoch 18/30\n",
            "23/23 [==============================] - 4s 155ms/step - loss: 3.7328e-04 - accuracy: 1.0000 - val_loss: 2.2767e-05 - val_accuracy: 1.0000\n",
            "Epoch 19/30\n",
            "23/23 [==============================] - 3s 151ms/step - loss: 7.4253e-04 - accuracy: 1.0000 - val_loss: 1.6346e-05 - val_accuracy: 1.0000\n",
            "Epoch 20/30\n",
            "23/23 [==============================] - 3s 150ms/step - loss: 5.3296e-04 - accuracy: 1.0000 - val_loss: 4.1289e-05 - val_accuracy: 1.0000\n",
            "Epoch 21/30\n",
            "23/23 [==============================] - 3s 152ms/step - loss: 6.9031e-04 - accuracy: 1.0000 - val_loss: 2.7699e-05 - val_accuracy: 1.0000\n",
            "Epoch 22/30\n",
            "23/23 [==============================] - 4s 154ms/step - loss: 4.3725e-04 - accuracy: 1.0000 - val_loss: 1.8760e-05 - val_accuracy: 1.0000\n",
            "Epoch 23/30\n",
            "23/23 [==============================] - 3s 151ms/step - loss: 7.7598e-04 - accuracy: 1.0000 - val_loss: 1.0863e-05 - val_accuracy: 1.0000\n",
            "Epoch 24/30\n",
            "23/23 [==============================] - 3s 149ms/step - loss: 2.6743e-04 - accuracy: 1.0000 - val_loss: 1.0326e-05 - val_accuracy: 1.0000\n",
            "Epoch 25/30\n",
            "23/23 [==============================] - 3s 150ms/step - loss: 4.3029e-04 - accuracy: 1.0000 - val_loss: 9.6407e-06 - val_accuracy: 1.0000\n",
            "Epoch 26/30\n",
            "23/23 [==============================] - 4s 154ms/step - loss: 6.0841e-04 - accuracy: 1.0000 - val_loss: 1.1056e-05 - val_accuracy: 1.0000\n",
            "Epoch 27/30\n",
            "23/23 [==============================] - 3s 150ms/step - loss: 3.0012e-04 - accuracy: 1.0000 - val_loss: 1.3560e-05 - val_accuracy: 1.0000\n",
            "Epoch 28/30\n",
            "23/23 [==============================] - 3s 149ms/step - loss: 2.2830e-04 - accuracy: 1.0000 - val_loss: 1.2159e-05 - val_accuracy: 1.0000\n",
            "Epoch 29/30\n",
            "23/23 [==============================] - 3s 151ms/step - loss: 2.7777e-04 - accuracy: 1.0000 - val_loss: 1.0028e-05 - val_accuracy: 1.0000\n",
            "Epoch 30/30\n",
            "23/23 [==============================] - 4s 155ms/step - loss: 2.9268e-04 - accuracy: 1.0000 - val_loss: 9.6110e-06 - val_accuracy: 1.0000\n"
          ]
        }
      ],
      "source": [
        "EPOCH = 30\n",
        "BATCH_SIZE = 3\n",
        "\n",
        "# up 모델 훈련\n",
        "history_up = model.fit(X_train_up, y_train_up,\n",
        "                       epochs=EPOCH,\n",
        "                       batch_size=BATCH_SIZE,\n",
        "                       validation_data=(X_val_up, y_val_up),\n",
        "                       verbose=1)\n",
        "\n",
        "# under 모델 훈련\n",
        "history_under = model.fit(X_train_under, y_train_under,\n",
        "                          epochs=EPOCH,\n",
        "                          batch_size=BATCH_SIZE,\n",
        "                          validation_data=(X_val_under, y_val_under),\n",
        "                          verbose=1)"
      ]
    },
    {
      "cell_type": "code",
      "execution_count": 24,
      "id": "5d1782fa-57b1-44ef-b8d1-e1d478a3ddb7",
      "metadata": {
        "id": "5d1782fa-57b1-44ef-b8d1-e1d478a3ddb7",
        "colab": {
          "base_uri": "https://localhost:8080/",
          "height": 927
        },
        "outputId": "777cbc33-a176-47fb-fffd-82138562c235"
      },
      "outputs": [
        {
          "output_type": "display_data",
          "data": {
            "text/plain": [
              "<Figure size 640x480 with 1 Axes>"
            ],
            "image/png": "[encoded data removed]"
          },
          "metadata": {}
        },
        {
          "output_type": "display_data",
          "data": {
            "text/plain": [
              "<Figure size 640x480 with 1 Axes>"
            ],
            "image/png": "[encoded data removed]"
          },
          "metadata": {}
        }
      ],
      "source": [
        "# 훈련 및 검증 손실 그래프\n",
        "plt.plot(history_up.history['loss'], label='Train Loss')\n",
        "plt.plot(history_up.history['val_loss'], label='Validation Loss')\n",
        "plt.title('History_up Training and Validation Loss')\n",
        "plt.xlabel('Epochs')\n",
        "plt.ylabel('Loss')\n",
        "plt.legend()\n",
        "plt.show()\n",
        "\n",
        "# 훈련 및 검증 손실 그래프\n",
        "plt.plot(history_under.history['loss'], label='Train Loss')\n",
        "plt.plot(history_under.history['val_loss'], label='Validation Loss')\n",
        "plt.title('History_under Training and Validation Loss')\n",
        "plt.xlabel('Epochs')\n",
        "plt.ylabel('Loss')\n",
        "plt.legend()\n",
        "plt.show()"
      ]
    },
    {
      "cell_type": "code",
      "source": [
        "# 훈련 및 검증 정확도 그래프\n",
        "plt.plot(history_up.history['accuracy'], label='Train Accuracy')\n",
        "plt.plot(history_up.history['val_accuracy'], label='Validation Accuracy')\n",
        "plt.title('Training and Validation Accuracy')\n",
        "plt.xlabel('Epochs')\n",
        "plt.ylabel('Accuracy')\n",
        "plt.legend()\n",
        "plt.show()\n",
        "\n",
        "# 훈련 및 검증 정확도 그래프\n",
        "plt.plot(history_under.history['accuracy'], label='Train Accuracy')\n",
        "plt.plot(history_under.history['val_accuracy'], label='Validation Accuracy')\n",
        "plt.title('Training and Validation Accuracy')\n",
        "plt.xlabel('Epochs')\n",
        "plt.ylabel('Accuracy')\n",
        "plt.legend()\n",
        "plt.show()"
      ],
      "metadata": {
        "colab": {
          "base_uri": "https://localhost:8080/",
          "height": 927
        },
        "id": "6CiHSB0ufikJ",
        "outputId": "4146d047-09aa-41d6-ec03-87556abbfbdc"
      },
      "id": "6CiHSB0ufikJ",
      "execution_count": 25,
      "outputs": [
        {
          "output_type": "display_data",
          "data": {
            "text/plain": [
              "<Figure size 640x480 with 1 Axes>"
            ],
            "image/png": "[encoded data removed]"
          },
          "metadata": {}
        },
        {
          "output_type": "display_data",
          "data": {
            "text/plain": [
              "<Figure size 640x480 with 1 Axes>"
            ],
            "image/png": "[encoded data removed]"
          },
          "metadata": {}
        }
      ]
    },
    {
      "cell_type": "code",
      "source": [
        "# Test 데이터\n",
        "test_up_loss, test_up_accuracy = model.evaluate(X_test_up, y_test_up)\n",
        "test_under_loss, test_under_accuracy = model.evaluate(X_test_under, y_test_under)\n",
        "\n",
        "\n",
        "print(\"Up Test loss\", test_up_loss)\n",
        "print(\"Up test accuracy\", test_up_accuracy)\n",
        "print('------------------------------------------')\n",
        "print(\"Under Test loss\", test_under_loss)\n",
        "print(\"Under Test accuracy\", test_under_accuracy)"
      ],
      "metadata": {
        "colab": {
          "base_uri": "https://localhost:8080/"
        },
        "id": "8iv72Dz16x5Z",
        "outputId": "f5773e77-612a-42de-e77a-2aa424200aef"
      },
      "id": "8iv72Dz16x5Z",
      "execution_count": 26,
      "outputs": [
        {
          "output_type": "stream",
          "name": "stdout",
          "text": [
            "1/1 [==============================] - 2s 2s/step - loss: 0.0489 - accuracy: 1.0000\n",
            "1/1 [==============================] - 1s 1s/step - loss: 3.1060e-05 - accuracy: 1.0000\n",
            "Up Test loss 0.04888439178466797\n",
            "Up test accuracy 1.0\n",
            "------------------------------------------\n",
            "Under Test loss 3.1059887987794355e-05\n",
            "Under Test accuracy 1.0\n"
          ]
        }
      ]
    },
    {
      "cell_type": "markdown",
      "source": [
        "# 분류할 이미지 넣기"
      ],
      "metadata": {
        "id": "YvEQa94btcRU"
      },
      "id": "YvEQa94btcRU"
    },
    {
      "cell_type": "markdown",
      "source": [
        "## 이미지를 데이터화 시켜서 real_test에 넣기"
      ],
      "metadata": {
        "id": "g5IFg2vV8vn6"
      },
      "id": "g5IFg2vV8vn6"
    },
    {
      "cell_type": "code",
      "source": [
        "real_test = preprocess_image('/content/drive/MyDrive/Project/photo1')"
      ],
      "metadata": {
        "id": "XdAS6ulLtV8D"
      },
      "id": "XdAS6ulLtV8D",
      "execution_count": 36,
      "outputs": []
    },
    {
      "cell_type": "markdown",
      "source": [],
      "metadata": {
        "id": "VB6Ry_auNN23"
      },
      "id": "VB6Ry_auNN23"
    },
    {
      "cell_type": "markdown",
      "source": [
        "## 모델 추론"
      ],
      "metadata": {
        "id": "8z390A-p9_oZ"
      },
      "id": "8z390A-p9_oZ"
    },
    {
      "cell_type": "code",
      "source": [
        "prediction = model.predict(real_test)\n",
        "class_index = np.argmax(prediction)\n",
        "\n",
        "# 분류 결과에 따라 이미지 저장\n",
        "\n",
        "if class_index == 0:\n",
        "  save_path = '/content/drive/MyDrive/Project/results/up_good'\n",
        "elif class_index == 1:\n",
        "  save_path = '/content/drive/MyDrive/Project/results/under_good'\n",
        "elif class_index == 2:\n",
        "  save_path = '/content/drive/MyDrive/Project/results/up_notgood'\n",
        "else:\n",
        "  save_path = '/content/drive/MyDrive/Project/results/uder_notgood'\n",
        "\n",
        "# 저장할 폴더 내 이미지 파일들 개수 확인\n",
        "file_list = os.listdir(save_path)\n",
        "num_files = len(file_list)\n",
        "\n",
        "# 이미지 저장\n",
        "result_image = Image.fromarray(real_test[0])\n",
        "result_image.save(os.path.join(save_path, f'results_{num_files + 1}.png'))"
      ],
      "metadata": {
        "id": "j9NRcuLtt6JF",
        "colab": {
          "base_uri": "https://localhost:8080/"
        },
        "outputId": "b8a4790b-82bd-4cf0-8bcf-2e59f8dad780"
      },
      "id": "j9NRcuLtt6JF",
      "execution_count": 39,
      "outputs": [
        {
          "output_type": "stream",
          "name": "stdout",
          "text": [
            "36/36 [==============================] - 16s 449ms/step\n"
          ]
        }
      ]
    },
    {
      "cell_type": "code",
      "source": [
        "# 분류 결과에 따라 이미지 저장\n",
        "\n",
        "if class_index == 0:\n",
        "  save_path = '/content/drive/MyDrive/Project/results/up_good'\n",
        "elif class_index == 1:\n",
        "  save_path = '/content/drive/MyDrive/Project/results/under_good'\n",
        "elif class_index == 2:\n",
        "  save_path = '/content/drive/MyDrive/Project/results/up_notgood'\n",
        "else:\n",
        "  save_path = '/content/drive/MyDrive/Project/results/uder_notgood'\n",
        "\n",
        "# 이미지 저장\n",
        "result_image = Image.fromarray(real_test[0])\n",
        "result_image.save(os.path.join(save_path, 'results.png'))"
      ],
      "metadata": {
        "id": "gF65U9SJ-I8Y"
      },
      "id": "gF65U9SJ-I8Y",
      "execution_count": 38,
      "outputs": []
    },
    {
      "cell_type": "code",
      "source": [],
      "metadata": {
        "id": "vFfGHewnFlhc"
      },
      "id": "vFfGHewnFlhc",
      "execution_count": null,
      "outputs": []
    }
  ],
  "metadata": {
    "kernelspec": {
      "display_name": "Python 3",
      "name": "python3"
    },
    "language_info": {
      "name": "python"
    },
    "colab": {
      "provenance": [],
      "gpuType": "T4",
      "collapsed_sections": [
        "78eeadf9-4ad9-4c3d-8d62-a6af9c72c9b5",
        "a2f257a8-70fe-4d07-a780-7e98d0eb6ded"
      ],
      "include_colab_link": true
    },
    "accelerator": "GPU"
  },
  "nbformat": 4,
  "nbformat_minor": 5
}